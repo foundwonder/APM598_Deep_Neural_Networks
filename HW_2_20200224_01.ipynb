{
 "cells": [
  {
   "cell_type": "code",
   "execution_count": 34,
   "metadata": {
    "collapsed": true,
    "pycharm": {
     "is_executing": false,
     "name": "#%%\n"
    }
   },
   "outputs": [
    {
     "name": "stdout",
     "text": [
      "[0.00557435 0.01587808 0.02839761 0.05318735 0.09546326 0.12308336\n",
      " 0.18880738 0.21829889 0.31017872 0.31254726 0.34912918 0.35353221\n",
      " 0.35534057 0.43086683 0.45474412 0.45996944 0.46176484 0.59696149\n",
      " 0.5982452  0.63460014 0.65800078 0.67226893 0.70105901 0.75613169\n",
      " 0.77325621 0.78128208 0.78507859 0.82662829 0.87287    0.98272288]\n",
      "[2.83024702 0.58069405 1.66974957 3.77225204 3.30101471 0.80550139\n",
      " 4.81834752 0.15954414 3.48801982 3.02990581 0.49943382 1.91127225\n",
      " 4.28285272 3.9822568  1.07058614 1.76988357 1.77034649 4.49594581\n",
      " 0.63639963 1.64733652 2.36071394 1.46889043 1.31385169 2.93333934\n",
      " 2.54905314 2.82750293 1.69172222 2.92857025 4.69889728 4.74904044]\n",
      "[1.0, 1.0, 1.0, 1.0, 1.0, 1.0, 1.0, 1.0, 1.0, 1.0, 1.0, 1.0, 1.0, 1.0, 1.0, 1.0, 1.0, 1.0, 1.0, 1.0, 1.0, 1.0, 1.0, 1.0, 1.0, 1.0, 1.0, 1.0, 1.0, 1.0] [-0.005574350527479122, -0.015878076767797067, -0.028397609032367543, -0.05318734703757999, -0.0954632629638843, -0.12308336239177708, -0.18880738455123358, -0.21829889312794548, -0.3101787206322302, -0.3125472579597087, -0.3491291759834376, -0.3535322066572679, -0.35534057465037494, -0.43086683248469415, -0.45474411729265973, -0.4599694410470566, -0.4617648366000485, -0.5969614907207358, -0.5982451979913594, -0.6346001352572546, -0.6580007758336132, -0.6722689310983703, -0.7010590142699814, -0.7561316888802566, -0.7732562087433348, -0.7812820762567959, -0.7850785897271977, -0.8266282877760607, -0.8728699999691308, -0.9827228776009748] [[-2.18324218e+02]\n",
      " [ 3.05312733e+02]\n",
      " [-2.17509471e+00]\n",
      " [-9.59601295e+01]\n",
      " [-7.92046425e+01]\n",
      " [ 1.51407355e+02]\n",
      " [-2.19027013e+02]\n",
      " [ 1.94197413e+02]\n",
      " [-2.29642823e+02]\n",
      " [ 1.24243666e+02]\n",
      " [ 3.89824261e+02]\n",
      " [ 9.90796429e+02]\n",
      " [-1.31542795e+03]\n",
      " [-1.17963103e+02]\n",
      " [ 2.55771660e+02]\n",
      " [-1.33570703e+02]\n",
      " [ 1.99024233e+01]\n",
      " [-3.02672279e+03]\n",
      " [ 3.03436995e+03]\n",
      " [ 2.67796288e+00]\n",
      " [-9.29898518e+01]\n",
      " [ 5.71193282e+01]\n",
      " [ 3.47915176e+01]\n",
      " [-5.18470725e+01]\n",
      " [ 5.71347410e+01]\n",
      " [-3.33858188e+02]\n",
      " [ 3.28932064e+02]\n",
      " [ 8.51628309e+00]\n",
      " [-3.78277442e+01]\n",
      " [ 0.00000000e+00]] 2.8302470160188626\n"
     ],
     "output_type": "stream"
    }
   ],
   "source": [
    "import numpy as np\n",
    "import torch\n",
    "import torch.nn as nn\n",
    "from torch.utils.data import TensorDataset\n",
    "from HW2_util import ModuleParams as MyParam, TwoLayerReluClassificationModel as MyReluModel, MyNNTrainer as MyTrainer\n",
    "import torch.nn.functional as F\n",
    "from dataclasses import dataclass\n",
    "\n",
    "# # a = np.array([[1,2,3],[3,2,4]])\n",
    "# a = np.mat([[1,2],[3,3]])\n",
    "# a_tensor = torch.tensor([[1,2],[3,3]])\n",
    "# # b = np.array([[0,5], [2,6], [3,2]])\n",
    "# b = np.mat([[1], [3]])\n",
    "# b_tensor = torch.tensor([[1], [3]])\n",
    "# # d = np.array([[13,23],[16,35]])\n",
    "# d = np.mat([[7],[12]])\n",
    "# d_tensor = torch.tensor([[13],[16]])\n",
    "# \n",
    "# c = a@b\n",
    "# # e, _, _, _ = np.linalg.lstsq(d, a)\n",
    "# e = np.round(a.I@d).astype(int)\n",
    "# f = a.I@d\n",
    "# \n",
    "# # e_tensor = a_tensor.inverse()\n",
    "# \n",
    "# print(f)\n",
    "\n",
    "\n",
    "number_data = 30  # number of points\n",
    "y_start, y_stop = 0.0, 5.0\n",
    "x_data_2c = np.sort(np.random.rand(number_data))\n",
    "x_data_2c_tensor = torch.as_tensor(x_data_2c, dtype=float)\n",
    "y_data_2c = (y_stop-y_start)*np.random.rand(number_data) + y_start\n",
    "y_data_2c_tensor = torch.as_tensor(y_data_2c)\n",
    "y_data_2c_tensor = y_data_2c_tensor.float().view(number_data,1)\n",
    "training_data_ex2c = TensorDataset(x_data_2c_tensor, y_data_2c_tensor)\n",
    "\n",
    "def find_params(x, y):\n",
    "    w1 = [1.0 for i in x]\n",
    "    b1 = [-i for i in x]\n",
    "    b2 = y[0]\n",
    "    w1_mat, b1_mat = np.mat(w1), np.mat(b1).T\n",
    "    b1_mat_repeat = np.repeat(b1_mat, len(x), axis=1)\n",
    "    x_mat, y_mat = np.mat(x), np.mat(y)\n",
    "    z_mat = w1_mat.T@x_mat\n",
    "    z_mat += b1_mat_repeat\n",
    "    z_mat_relu = np.mat(np.where(z_mat<0, 0, z_mat)).T\n",
    "    y_b = (y_mat-b2).T\n",
    "    # w2_mat = z_mat_relu.I@y_b\n",
    "    w2_mat = np.linalg.pinv(z_mat_relu)@y_b\n",
    "    # w2_mat = np.mat(z_mat_relu)\n",
    "    w2 = np.asarray(w2_mat)\n",
    "    # w2 = [0]\n",
    "    # for i in range(1,len(x)):\n",
    "    #     x_w = 0\n",
    "    #     if i >= 2:\n",
    "    #         x_w_list = [(x[i] - x[j])*w2[j] for j in range(i-2)]\n",
    "    #         x_w = sum(x_w_list)\n",
    "    #     w2.append((y[i] - b2 - x_w)/(x[i]-x[i-1]))\n",
    "    \n",
    "    return w1, b1, w2, b2\n",
    "\n",
    "print(x_data_2c)\n",
    "print(y_data_2c)\n",
    "w1, b1, w2, b2 = find_params(x_data_2c, y_data_2c)\n",
    "print(w1, b1, w2, b2)\n"
   ]
  },
  {
   "cell_type": "code",
   "execution_count": 33,
   "outputs": [
    {
     "name": "stdout",
     "text": [
      "0.0000\n",
      "-0.0000\n",
      "-0.0000\n",
      "0.0000\n",
      "-0.0000\n",
      "-0.0000\n",
      "0.0000\n",
      "-0.0000\n",
      "-0.0000\n",
      "0.0000\n",
      "-0.0000\n",
      "-0.0000\n",
      "0.0000\n",
      "0.0000\n",
      "-0.0000\n",
      "-0.0000\n",
      "0.0000\n",
      "0.0000\n",
      "0.0000\n",
      "-0.0000\n",
      "-0.0000\n",
      "-0.0000\n",
      "0.0000\n",
      "0.0000\n",
      "0.0000\n",
      "0.0000\n",
      "0.0000\n",
      "0.0000\n",
      "0.0000\n",
      "0.0000\n"
     ],
     "output_type": "stream"
    }
   ],
   "source": [
    "score_list = []\n",
    "error_list = []\n",
    "for i in range(number_data):\n",
    "    z = [max(0, x_data_2c[i]+b1[j]) for j in range(number_data)]\n",
    "    score = sum([z[j]*w2[j] for j in range(number_data)]) + b2\n",
    "    score_list.append(score)\n",
    "    error = float(score - y_data_2c[i])\n",
    "    error_list.append(error)\n",
    "    print(f'{error:.4f}')"
   ],
   "metadata": {
    "collapsed": false,
    "pycharm": {
     "name": "#%%\n",
     "is_executing": false
    }
   }
  },
  {
   "cell_type": "code",
   "execution_count": 35,
   "outputs": [
    {
     "traceback": [
      "\u001b[0;31m---------------------------------------------------------------------------\u001b[0m",
      "\u001b[0;31mIndexError\u001b[0m                                Traceback (most recent call last)",
      "\u001b[0;32m<ipython-input-35-ba75d9d855a2>\u001b[0m in \u001b[0;36m<module>\u001b[0;34m\u001b[0m\n\u001b[1;32m     34\u001b[0m \u001b[0;34m\u001b[0m\u001b[0m\n\u001b[1;32m     35\u001b[0m \u001b[0mmodel_ex2c\u001b[0m \u001b[0;34m=\u001b[0m \u001b[0mTwoLayerApproxiModel\u001b[0m\u001b[0;34m(\u001b[0m\u001b[0mparams_ex2c\u001b[0m\u001b[0;34m)\u001b[0m\u001b[0;34m\u001b[0m\u001b[0;34m\u001b[0m\u001b[0m\n\u001b[0;32m---> 36\u001b[0;31m \u001b[0my_hat\u001b[0m \u001b[0;34m=\u001b[0m \u001b[0mmodel_ex2c\u001b[0m\u001b[0;34m(\u001b[0m\u001b[0mx_data_2c_tensor\u001b[0m\u001b[0;34m)\u001b[0m\u001b[0;34m\u001b[0m\u001b[0;34m\u001b[0m\u001b[0m\n\u001b[0m\u001b[1;32m     37\u001b[0m \u001b[0;31m# y_hat = model_ex2c(torch.tensor([0.01798932]))\u001b[0m\u001b[0;34m\u001b[0m\u001b[0;34m\u001b[0m\u001b[0;34m\u001b[0m\u001b[0m\n\u001b[1;32m     38\u001b[0m \u001b[0mprint\u001b[0m\u001b[0;34m(\u001b[0m\u001b[0my_hat\u001b[0m\u001b[0;34m)\u001b[0m\u001b[0;34m\u001b[0m\u001b[0;34m\u001b[0m\u001b[0m\n",
      "\u001b[0;32m~/Library/Python/3.7/lib/python/site-packages/torch/nn/modules/module.py\u001b[0m in \u001b[0;36m__call__\u001b[0;34m(self, *input, **kwargs)\u001b[0m\n\u001b[1;32m    530\u001b[0m             \u001b[0mresult\u001b[0m \u001b[0;34m=\u001b[0m \u001b[0mself\u001b[0m\u001b[0;34m.\u001b[0m\u001b[0m_slow_forward\u001b[0m\u001b[0;34m(\u001b[0m\u001b[0;34m*\u001b[0m\u001b[0minput\u001b[0m\u001b[0;34m,\u001b[0m \u001b[0;34m**\u001b[0m\u001b[0mkwargs\u001b[0m\u001b[0;34m)\u001b[0m\u001b[0;34m\u001b[0m\u001b[0;34m\u001b[0m\u001b[0m\n\u001b[1;32m    531\u001b[0m         \u001b[0;32melse\u001b[0m\u001b[0;34m:\u001b[0m\u001b[0;34m\u001b[0m\u001b[0;34m\u001b[0m\u001b[0m\n\u001b[0;32m--> 532\u001b[0;31m             \u001b[0mresult\u001b[0m \u001b[0;34m=\u001b[0m \u001b[0mself\u001b[0m\u001b[0;34m.\u001b[0m\u001b[0mforward\u001b[0m\u001b[0;34m(\u001b[0m\u001b[0;34m*\u001b[0m\u001b[0minput\u001b[0m\u001b[0;34m,\u001b[0m \u001b[0;34m**\u001b[0m\u001b[0mkwargs\u001b[0m\u001b[0;34m)\u001b[0m\u001b[0;34m\u001b[0m\u001b[0;34m\u001b[0m\u001b[0m\n\u001b[0m\u001b[1;32m    533\u001b[0m         \u001b[0;32mfor\u001b[0m \u001b[0mhook\u001b[0m \u001b[0;32min\u001b[0m \u001b[0mself\u001b[0m\u001b[0;34m.\u001b[0m\u001b[0m_forward_hooks\u001b[0m\u001b[0;34m.\u001b[0m\u001b[0mvalues\u001b[0m\u001b[0;34m(\u001b[0m\u001b[0;34m)\u001b[0m\u001b[0;34m:\u001b[0m\u001b[0;34m\u001b[0m\u001b[0;34m\u001b[0m\u001b[0m\n\u001b[1;32m    534\u001b[0m             \u001b[0mhook_result\u001b[0m \u001b[0;34m=\u001b[0m \u001b[0mhook\u001b[0m\u001b[0;34m(\u001b[0m\u001b[0mself\u001b[0m\u001b[0;34m,\u001b[0m \u001b[0minput\u001b[0m\u001b[0;34m,\u001b[0m \u001b[0mresult\u001b[0m\u001b[0;34m)\u001b[0m\u001b[0;34m\u001b[0m\u001b[0;34m\u001b[0m\u001b[0m\n",
      "\u001b[0;32m<ipython-input-35-ba75d9d855a2>\u001b[0m in \u001b[0;36mforward\u001b[0;34m(self, x)\u001b[0m\n\u001b[1;32m     30\u001b[0m     \u001b[0;32mdef\u001b[0m \u001b[0mforward\u001b[0m\u001b[0;34m(\u001b[0m\u001b[0mself\u001b[0m\u001b[0;34m,\u001b[0m \u001b[0mx\u001b[0m\u001b[0;34m)\u001b[0m\u001b[0;34m:\u001b[0m\u001b[0;34m\u001b[0m\u001b[0;34m\u001b[0m\u001b[0m\n\u001b[1;32m     31\u001b[0m         \u001b[0mx\u001b[0m \u001b[0;34m=\u001b[0m \u001b[0mx\u001b[0m\u001b[0;34m.\u001b[0m\u001b[0mview\u001b[0m\u001b[0;34m(\u001b[0m\u001b[0mx\u001b[0m\u001b[0;34m.\u001b[0m\u001b[0msize\u001b[0m\u001b[0;34m(\u001b[0m\u001b[0;36m0\u001b[0m\u001b[0;34m)\u001b[0m\u001b[0;34m,\u001b[0m \u001b[0;34m-\u001b[0m\u001b[0;36m1\u001b[0m\u001b[0;34m)\u001b[0m\u001b[0;34m\u001b[0m\u001b[0;34m\u001b[0m\u001b[0m\n\u001b[0;32m---> 32\u001b[0;31m         \u001b[0mz\u001b[0m \u001b[0;34m=\u001b[0m \u001b[0mself\u001b[0m\u001b[0;34m.\u001b[0m\u001b[0m_model\u001b[0m\u001b[0;34m(\u001b[0m\u001b[0mx\u001b[0m\u001b[0;34m)\u001b[0m\u001b[0;34m\u001b[0m\u001b[0;34m\u001b[0m\u001b[0m\n\u001b[0m\u001b[1;32m     33\u001b[0m         \u001b[0;32mreturn\u001b[0m \u001b[0mz\u001b[0m\u001b[0;34m\u001b[0m\u001b[0;34m\u001b[0m\u001b[0m\n\u001b[1;32m     34\u001b[0m \u001b[0;34m\u001b[0m\u001b[0m\n",
      "\u001b[0;32m~/Library/Python/3.7/lib/python/site-packages/torch/nn/modules/module.py\u001b[0m in \u001b[0;36m__call__\u001b[0;34m(self, *input, **kwargs)\u001b[0m\n\u001b[1;32m    530\u001b[0m             \u001b[0mresult\u001b[0m \u001b[0;34m=\u001b[0m \u001b[0mself\u001b[0m\u001b[0;34m.\u001b[0m\u001b[0m_slow_forward\u001b[0m\u001b[0;34m(\u001b[0m\u001b[0;34m*\u001b[0m\u001b[0minput\u001b[0m\u001b[0;34m,\u001b[0m \u001b[0;34m**\u001b[0m\u001b[0mkwargs\u001b[0m\u001b[0;34m)\u001b[0m\u001b[0;34m\u001b[0m\u001b[0;34m\u001b[0m\u001b[0m\n\u001b[1;32m    531\u001b[0m         \u001b[0;32melse\u001b[0m\u001b[0;34m:\u001b[0m\u001b[0;34m\u001b[0m\u001b[0;34m\u001b[0m\u001b[0m\n\u001b[0;32m--> 532\u001b[0;31m             \u001b[0mresult\u001b[0m \u001b[0;34m=\u001b[0m \u001b[0mself\u001b[0m\u001b[0;34m.\u001b[0m\u001b[0mforward\u001b[0m\u001b[0;34m(\u001b[0m\u001b[0;34m*\u001b[0m\u001b[0minput\u001b[0m\u001b[0;34m,\u001b[0m \u001b[0;34m**\u001b[0m\u001b[0mkwargs\u001b[0m\u001b[0;34m)\u001b[0m\u001b[0;34m\u001b[0m\u001b[0;34m\u001b[0m\u001b[0m\n\u001b[0m\u001b[1;32m    533\u001b[0m         \u001b[0;32mfor\u001b[0m \u001b[0mhook\u001b[0m \u001b[0;32min\u001b[0m \u001b[0mself\u001b[0m\u001b[0;34m.\u001b[0m\u001b[0m_forward_hooks\u001b[0m\u001b[0;34m.\u001b[0m\u001b[0mvalues\u001b[0m\u001b[0;34m(\u001b[0m\u001b[0;34m)\u001b[0m\u001b[0;34m:\u001b[0m\u001b[0;34m\u001b[0m\u001b[0;34m\u001b[0m\u001b[0m\n\u001b[1;32m    534\u001b[0m             \u001b[0mhook_result\u001b[0m \u001b[0;34m=\u001b[0m \u001b[0mhook\u001b[0m\u001b[0;34m(\u001b[0m\u001b[0mself\u001b[0m\u001b[0;34m,\u001b[0m \u001b[0minput\u001b[0m\u001b[0;34m,\u001b[0m \u001b[0mresult\u001b[0m\u001b[0;34m)\u001b[0m\u001b[0;34m\u001b[0m\u001b[0;34m\u001b[0m\u001b[0m\n",
      "\u001b[0;32m~/Library/Python/3.7/lib/python/site-packages/torch/nn/modules/container.py\u001b[0m in \u001b[0;36mforward\u001b[0;34m(self, input)\u001b[0m\n\u001b[1;32m     98\u001b[0m     \u001b[0;32mdef\u001b[0m \u001b[0mforward\u001b[0m\u001b[0;34m(\u001b[0m\u001b[0mself\u001b[0m\u001b[0;34m,\u001b[0m \u001b[0minput\u001b[0m\u001b[0;34m)\u001b[0m\u001b[0;34m:\u001b[0m\u001b[0;34m\u001b[0m\u001b[0;34m\u001b[0m\u001b[0m\n\u001b[1;32m     99\u001b[0m         \u001b[0;32mfor\u001b[0m \u001b[0mmodule\u001b[0m \u001b[0;32min\u001b[0m \u001b[0mself\u001b[0m\u001b[0;34m:\u001b[0m\u001b[0;34m\u001b[0m\u001b[0;34m\u001b[0m\u001b[0m\n\u001b[0;32m--> 100\u001b[0;31m             \u001b[0minput\u001b[0m \u001b[0;34m=\u001b[0m \u001b[0mmodule\u001b[0m\u001b[0;34m(\u001b[0m\u001b[0minput\u001b[0m\u001b[0;34m)\u001b[0m\u001b[0;34m\u001b[0m\u001b[0;34m\u001b[0m\u001b[0m\n\u001b[0m\u001b[1;32m    101\u001b[0m         \u001b[0;32mreturn\u001b[0m \u001b[0minput\u001b[0m\u001b[0;34m\u001b[0m\u001b[0;34m\u001b[0m\u001b[0m\n\u001b[1;32m    102\u001b[0m \u001b[0;34m\u001b[0m\u001b[0m\n",
      "\u001b[0;32m~/Library/Python/3.7/lib/python/site-packages/torch/nn/modules/module.py\u001b[0m in \u001b[0;36m__call__\u001b[0;34m(self, *input, **kwargs)\u001b[0m\n\u001b[1;32m    530\u001b[0m             \u001b[0mresult\u001b[0m \u001b[0;34m=\u001b[0m \u001b[0mself\u001b[0m\u001b[0;34m.\u001b[0m\u001b[0m_slow_forward\u001b[0m\u001b[0;34m(\u001b[0m\u001b[0;34m*\u001b[0m\u001b[0minput\u001b[0m\u001b[0;34m,\u001b[0m \u001b[0;34m**\u001b[0m\u001b[0mkwargs\u001b[0m\u001b[0;34m)\u001b[0m\u001b[0;34m\u001b[0m\u001b[0;34m\u001b[0m\u001b[0m\n\u001b[1;32m    531\u001b[0m         \u001b[0;32melse\u001b[0m\u001b[0;34m:\u001b[0m\u001b[0;34m\u001b[0m\u001b[0;34m\u001b[0m\u001b[0m\n\u001b[0;32m--> 532\u001b[0;31m             \u001b[0mresult\u001b[0m \u001b[0;34m=\u001b[0m \u001b[0mself\u001b[0m\u001b[0;34m.\u001b[0m\u001b[0mforward\u001b[0m\u001b[0;34m(\u001b[0m\u001b[0;34m*\u001b[0m\u001b[0minput\u001b[0m\u001b[0;34m,\u001b[0m \u001b[0;34m**\u001b[0m\u001b[0mkwargs\u001b[0m\u001b[0;34m)\u001b[0m\u001b[0;34m\u001b[0m\u001b[0;34m\u001b[0m\u001b[0m\n\u001b[0m\u001b[1;32m    533\u001b[0m         \u001b[0;32mfor\u001b[0m \u001b[0mhook\u001b[0m \u001b[0;32min\u001b[0m \u001b[0mself\u001b[0m\u001b[0;34m.\u001b[0m\u001b[0m_forward_hooks\u001b[0m\u001b[0;34m.\u001b[0m\u001b[0mvalues\u001b[0m\u001b[0;34m(\u001b[0m\u001b[0;34m)\u001b[0m\u001b[0;34m:\u001b[0m\u001b[0;34m\u001b[0m\u001b[0;34m\u001b[0m\u001b[0m\n\u001b[1;32m    534\u001b[0m             \u001b[0mhook_result\u001b[0m \u001b[0;34m=\u001b[0m \u001b[0mhook\u001b[0m\u001b[0;34m(\u001b[0m\u001b[0mself\u001b[0m\u001b[0;34m,\u001b[0m \u001b[0minput\u001b[0m\u001b[0;34m,\u001b[0m \u001b[0mresult\u001b[0m\u001b[0;34m)\u001b[0m\u001b[0;34m\u001b[0m\u001b[0;34m\u001b[0m\u001b[0m\n",
      "\u001b[0;32m~/Library/Python/3.7/lib/python/site-packages/torch/nn/modules/linear.py\u001b[0m in \u001b[0;36mforward\u001b[0;34m(self, input)\u001b[0m\n\u001b[1;32m     85\u001b[0m \u001b[0;34m\u001b[0m\u001b[0m\n\u001b[1;32m     86\u001b[0m     \u001b[0;32mdef\u001b[0m \u001b[0mforward\u001b[0m\u001b[0;34m(\u001b[0m\u001b[0mself\u001b[0m\u001b[0;34m,\u001b[0m \u001b[0minput\u001b[0m\u001b[0;34m)\u001b[0m\u001b[0;34m:\u001b[0m\u001b[0;34m\u001b[0m\u001b[0;34m\u001b[0m\u001b[0m\n\u001b[0;32m---> 87\u001b[0;31m         \u001b[0;32mreturn\u001b[0m \u001b[0mF\u001b[0m\u001b[0;34m.\u001b[0m\u001b[0mlinear\u001b[0m\u001b[0;34m(\u001b[0m\u001b[0minput\u001b[0m\u001b[0;34m,\u001b[0m \u001b[0mself\u001b[0m\u001b[0;34m.\u001b[0m\u001b[0mweight\u001b[0m\u001b[0;34m,\u001b[0m \u001b[0mself\u001b[0m\u001b[0;34m.\u001b[0m\u001b[0mbias\u001b[0m\u001b[0;34m)\u001b[0m\u001b[0;34m\u001b[0m\u001b[0;34m\u001b[0m\u001b[0m\n\u001b[0m\u001b[1;32m     88\u001b[0m \u001b[0;34m\u001b[0m\u001b[0m\n\u001b[1;32m     89\u001b[0m     \u001b[0;32mdef\u001b[0m \u001b[0mextra_repr\u001b[0m\u001b[0;34m(\u001b[0m\u001b[0mself\u001b[0m\u001b[0;34m)\u001b[0m\u001b[0;34m:\u001b[0m\u001b[0;34m\u001b[0m\u001b[0;34m\u001b[0m\u001b[0m\n",
      "\u001b[0;32m~/Library/Python/3.7/lib/python/site-packages/torch/nn/functional.py\u001b[0m in \u001b[0;36mlinear\u001b[0;34m(input, weight, bias)\u001b[0m\n\u001b[1;32m   1368\u001b[0m     \u001b[0;32mif\u001b[0m \u001b[0minput\u001b[0m\u001b[0;34m.\u001b[0m\u001b[0mdim\u001b[0m\u001b[0;34m(\u001b[0m\u001b[0;34m)\u001b[0m \u001b[0;34m==\u001b[0m \u001b[0;36m2\u001b[0m \u001b[0;32mand\u001b[0m \u001b[0mbias\u001b[0m \u001b[0;32mis\u001b[0m \u001b[0;32mnot\u001b[0m \u001b[0;32mNone\u001b[0m\u001b[0;34m:\u001b[0m\u001b[0;34m\u001b[0m\u001b[0;34m\u001b[0m\u001b[0m\n\u001b[1;32m   1369\u001b[0m         \u001b[0;31m# fused op is marginally faster\u001b[0m\u001b[0;34m\u001b[0m\u001b[0;34m\u001b[0m\u001b[0;34m\u001b[0m\u001b[0m\n\u001b[0;32m-> 1370\u001b[0;31m         \u001b[0mret\u001b[0m \u001b[0;34m=\u001b[0m \u001b[0mtorch\u001b[0m\u001b[0;34m.\u001b[0m\u001b[0maddmm\u001b[0m\u001b[0;34m(\u001b[0m\u001b[0mbias\u001b[0m\u001b[0;34m,\u001b[0m \u001b[0minput\u001b[0m\u001b[0;34m,\u001b[0m \u001b[0mweight\u001b[0m\u001b[0;34m.\u001b[0m\u001b[0mt\u001b[0m\u001b[0;34m(\u001b[0m\u001b[0;34m)\u001b[0m\u001b[0;34m)\u001b[0m\u001b[0;34m\u001b[0m\u001b[0;34m\u001b[0m\u001b[0m\n\u001b[0m\u001b[1;32m   1371\u001b[0m     \u001b[0;32melse\u001b[0m\u001b[0;34m:\u001b[0m\u001b[0;34m\u001b[0m\u001b[0;34m\u001b[0m\u001b[0m\n\u001b[1;32m   1372\u001b[0m         \u001b[0moutput\u001b[0m \u001b[0;34m=\u001b[0m \u001b[0minput\u001b[0m\u001b[0;34m.\u001b[0m\u001b[0mmatmul\u001b[0m\u001b[0;34m(\u001b[0m\u001b[0mweight\u001b[0m\u001b[0;34m.\u001b[0m\u001b[0mt\u001b[0m\u001b[0;34m(\u001b[0m\u001b[0;34m)\u001b[0m\u001b[0;34m)\u001b[0m\u001b[0;34m\u001b[0m\u001b[0;34m\u001b[0m\u001b[0m\n",
      "\u001b[0;31mIndexError\u001b[0m: Dimension out of range (expected to be in range of [-1, 0], but got 1)"
     ],
     "ename": "IndexError",
     "evalue": "Dimension out of range (expected to be in range of [-1, 0], but got 1)",
     "output_type": "error"
    }
   ],
   "source": [
    "@dataclass\n",
    "class ParamEx2c(MyParam):\n",
    "    weight_1 = torch.tensor(w1)\n",
    "    bias_1 = torch.tensor(b1)\n",
    "    weight_2 = torch.tensor(w2)\n",
    "    bias_2 = torch.tensor(b2)\n",
    "\n",
    "params_ex2c = ParamEx2c(linear_in_features=1, linear_hidden_features=number_data, \n",
    "                      linear_out_features=1, optimizer='SGD', learning_rate=0.001, \n",
    "                      batch_size=10, num_epoch=5,\n",
    "                      loss_function='MSE')\n",
    "\n",
    "\n",
    "class TwoLayerApproxiModel(nn.Module):\n",
    "    def __init__(self, model_params: MyParam):\n",
    "        self._in_feature = model_params.linear_in_features\n",
    "        self._hidden_neurons = model_params.linear_hidden_features\n",
    "        self._out_feature = model_params.linear_out_features\n",
    "        super(TwoLayerApproxiModel, self).__init__()\n",
    "        self._layer_1 = nn.Linear(self._in_feature, self._hidden_neurons)\n",
    "        self._layer_1.weight.data = model_params.weight_1\n",
    "        self._layer_1.bias.data = model_params.bias_1\n",
    "        self._layer_2 = nn.Linear(self._hidden_neurons, self._out_feature)\n",
    "        self._layer_2.weight.data = model_params.weight_2\n",
    "        self._layer_2.bias.data = model_params.bias_2\n",
    "        self._model = nn.Sequential(self._layer_1,\n",
    "                                    nn.ReLU(),\n",
    "                                    self._layer_2)\n",
    "\n",
    "    def forward(self, x):\n",
    "        x = x.view(x.size(0), -1)\n",
    "        z = self._model(x)\n",
    "        return z\n",
    "\n",
    "model_ex2c = TwoLayerApproxiModel(params_ex2c)\n",
    "y_hat = model_ex2c(x_data_2c_tensor)\n",
    "# y_hat = model_ex2c(torch.tensor([0.01798932]))\n",
    "print(y_hat)\n",
    "\n",
    "# trainer_ex2c = MyTrainer(model=TwoLayerApproxiModel, \n",
    "#                          model_params=params_ex2c, \n",
    "#                          training_set=training_data_ex2c)\n",
    "# df_ex2c = trainer_ex2c.result"
   ],
   "metadata": {
    "collapsed": false,
    "pycharm": {
     "name": "#%%\n",
     "is_executing": false
    }
   }
  },
  {
   "cell_type": "code",
   "execution_count": 6,
   "outputs": [
    {
     "data": {
      "text/plain": "<Figure size 432x288 with 1 Axes>",
      "image/png": "[encoded data removed]"
     },
     "metadata": {
      "needs_background": "light"
     },
     "output_type": "display_data"
    }
   ],
   "source": [
    "# from HW2_util import plot_loss_accuracy\n",
    "# \n",
    "# # plot_loss_accuracy(df_ex2c, include_test=False)"
   ],
   "metadata": {
    "collapsed": false,
    "pycharm": {
     "name": "#%%\n",
     "is_executing": false
    }
   }
  }
 ],
 "metadata": {
  "kernelspec": {
   "display_name": "Python 3",
   "language": "python",
   "name": "python3"
  },
  "language_info": {
   "codemirror_mode": {
    "name": "ipython",
    "version": 2
   },
   "file_extension": ".py",
   "mimetype": "text/x-python",
   "name": "python",
   "nbconvert_exporter": "python",
   "pygments_lexer": "ipython2",
   "version": "2.7.6"
  },
  "pycharm": {
   "stem_cell": {
    "cell_type": "raw",
    "source": [],
    "metadata": {
     "collapsed": false
    }
   }
  }
 },
 "nbformat": 4,
 "nbformat_minor": 0
}