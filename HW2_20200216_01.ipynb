{
 "cells": [
  {
   "cell_type": "markdown",
   "metadata": {
    "collapsed": true,
    "pycharm": {
     "is_executing": false,
     "name": "#%% md\n"
    }
   },
   "source": [
    "# Code for HW2 APM598\n",
    "- Author: Jieshu Wang (jwang490@asu.edu)\n",
    "- Feb 2020\n",
    "- Two-layer linear neural networks and CNN (Convolutional Neural Networks)\n",
    "- need to import HW2_util.py"
   ]
  },
  {
   "cell_type": "markdown",
   "source": [
    "## Ex 1. a) Two-layer NN with four data points"
   ],
   "metadata": {
    "collapsed": false,
    "pycharm": {
     "name": "#%% md\n"
    }
   }
  },
  {
   "cell_type": "code",
   "execution_count": 3,
   "outputs": [
    {
     "name": "stdout",
     "text": [
      "-- epoch 0 --\n",
      "    loss: 0.7832\n",
      "    accuracy: 0.2500\n",
      "-- epoch 60 --\n",
      "    loss: 0.6760\n",
      "    accuracy: 0.7500\n",
      "-- epoch 120 --\n",
      "    loss: 0.5623\n",
      "    accuracy: 0.7500\n",
      "-- epoch 180 --\n",
      "    loss: 0.4056\n",
      "    accuracy: 0.7500\n",
      "-- epoch 240 --\n",
      "    loss: 0.2785\n",
      "    accuracy: 1.0000\n",
      "300 trainings is finished! Spent time 0.509850263595581 seconds.\n",
      "Final training loss: 0.1817\n",
      "Final training accuracy: 1.0000\n"
     ],
     "output_type": "stream"
    }
   ],
   "source": [
    "# 1. Two-layers Neural Networks\n",
    "# ex1. a) find parameters that satisfies the four data points. \n",
    "from torch.utils.data import TensorDataset\n",
    "import torch\n",
    "from HW2_util import ModuleParams as MyParams, TwoLayerReluModel as LinearModel, MyNNTrainer as MyTrainer\n",
    "\n",
    "training_data_x_ex1a = [[1,0],\n",
    "                        [-1,0],\n",
    "                        [0,1],\n",
    "                        [0,-1]]\n",
    "training_data_y_ex1a = [0,0,1,1]\n",
    "training_data_ex1a = TensorDataset(torch.as_tensor(training_data_x_ex1a, dtype=float),\n",
    "                              torch.as_tensor(training_data_y_ex1a, dtype=torch.long))\n",
    "\n",
    "ex1a_params = MyParams(learning_rate=0.01, batch_size=4, optimizer='SDG', \n",
    "                       num_epoch=300, good_parameter_threshold=0.9)\n",
    "\n",
    "ex1a_model = MyTrainer(LinearModel, ex1a_params, training_data_ex1a)\n",
    "ex1a_df = ex1a_model.result"
   ],
   "metadata": {
    "collapsed": false,
    "pycharm": {
     "name": "#%%\n",
     "is_executing": false
    }
   }
  },
  {
   "cell_type": "markdown",
   "source": [
    "## Ex 1. a) continue:\n",
    "- Plot the loss and accuracy\n",
    "- Print the good parameters that perform at least 90% accurate"
   ],
   "metadata": {
    "collapsed": false,
    "pycharm": {
     "name": "#%% md\n"
    }
   }
  },
  {
   "cell_type": "code",
   "execution_count": 5,
   "outputs": [
    {
     "data": {
      "text/plain": "<Figure size 432x288 with 1 Axes>",
      "image/png": "[encoded data removed]"
     },
     "metadata": {
      "needs_background": "light"
     },
     "output_type": "display_data"
    },
    {
     "name": "stdout",
     "text": [
      "\n",
      " The parameters that perform with (at least) 90.0% accuracy are:\n",
      "\n",
      "epoch 210.0: (accuracy, loss): (1.0000, 0.3401)\n",
      "    tensor([-2.3796e+00,  5.0224e-04], grad_fn=<SelectBackward>)\n",
      "    -0.0047014253214001656\n",
      "    tensor([ 1.0770, -1.2978], grad_fn=<SelectBackward>)\n",
      "    -0.013317445293068886\n",
      "\n",
      "epoch 211.0: (accuracy, loss): (1.0000, 0.3380)\n",
      "    tensor([-2.3796e+00,  5.0224e-04], grad_fn=<SelectBackward>)\n",
      "    -0.0047014253214001656\n",
      "    tensor([ 1.0770, -1.2978], grad_fn=<SelectBackward>)\n",
      "    -0.013317445293068886\n",
      "\n",
      "epoch 212.0: (accuracy, loss): (1.0000, 0.3359)\n",
      "    tensor([-2.3796e+00,  5.0224e-04], grad_fn=<SelectBackward>)\n",
      "    -0.0047014253214001656\n",
      "    tensor([ 1.0770, -1.2978], grad_fn=<SelectBackward>)\n",
      "    -0.013317445293068886\n",
      "\n",
      "epoch 213.0: (accuracy, loss): (1.0000, 0.3336)\n",
      "    tensor([-2.3796e+00,  5.0224e-04], grad_fn=<SelectBackward>)\n",
      "    -0.0047014253214001656\n",
      "    tensor([ 1.0770, -1.2978], grad_fn=<SelectBackward>)\n",
      "    -0.013317445293068886\n",
      "\n",
      "epoch 214.0: (accuracy, loss): (1.0000, 0.3316)\n",
      "    tensor([-2.3796e+00,  5.0224e-04], grad_fn=<SelectBackward>)\n",
      "    -0.0047014253214001656\n",
      "    tensor([ 1.0770, -1.2978], grad_fn=<SelectBackward>)\n",
      "    -0.013317445293068886\n"
     ],
     "output_type": "stream"
    }
   ],
   "source": [
    "# ex1. a) continue\n",
    "# plot the loss and accuracy \n",
    "from HW2_util import plot_loss_accuracy, print_good_parameters\n",
    "\n",
    "plot_loss_accuracy(ex1a_df, include_test=False)\n",
    "print_good_parameters(ex1a_df, ex1a_params)"
   ],
   "metadata": {
    "collapsed": false,
    "pycharm": {
     "name": "#%%\n",
     "is_executing": false
    }
   }
  },
  {
   "cell_type": "markdown",
   "source": [
    "## Ex 1. b) Two-layer NN with many data points"
   ],
   "metadata": {
    "collapsed": false,
    "pycharm": {
     "name": "#%% md\n"
    }
   }
  },
  {
   "cell_type": "code",
   "execution_count": 7,
   "outputs": [
    {
     "name": "stdout",
     "text": [
      "-- epoch 0 --\n",
      "    loss (train, test): 0.6875, 0.6974\n",
      "    accuracy (train, test): 0.5062, 0.5250\n",
      "-- epoch 40 --\n",
      "    loss (train, test): 0.1973, 0.1846\n",
      "    accuracy (train, test): 0.9187, 0.9250\n",
      "-- epoch 80 --\n",
      "    loss (train, test): 0.1876, 0.1799\n",
      "    accuracy (train, test): 0.9125, 0.9250\n",
      "-- epoch 120 --\n",
      "    loss (train, test): 0.1843, 0.1853\n",
      "    accuracy (train, test): 0.9187, 0.9250\n",
      "-- epoch 160 --\n",
      "    loss (train, test): 0.1821, 0.1868\n",
      "    accuracy (train, test): 0.9187, 0.9250\n",
      "200 trainings is finished! Spent time 1.9429888725280762 seconds.\n",
      "Final loss (train, test): 0.1830, 0.1913\n",
      "Final accuracy (train, test): 0.9187, 0.9250\n"
     ],
     "output_type": "stream"
    }
   ],
   "source": [
    "# ex1. b) provide accuracy of the two-layer nn for the dataset\n",
    "\n",
    "import pandas as pd\n",
    "import numpy as np\n",
    "import torch\n",
    "from sklearn.model_selection import train_test_split\n",
    "from torch.utils.data import TensorDataset\n",
    "\n",
    "training_df_ex1b = pd.read_csv('./data/data_HW2_ex1.csv')\n",
    "X = np.column_stack((training_df_ex1b['x1'].values, training_df_ex1b['x2'].values))\n",
    "y = training_df_ex1b['class'].values - 1\n",
    "\n",
    "x_train, x_test, y_train, y_test = train_test_split(X, y, test_size=0.2, random_state=42)\n",
    "training_set = TensorDataset(torch.as_tensor(x_train, dtype=float), torch.as_tensor(y_train, dtype=torch.long))\n",
    "test_set = TensorDataset(torch.as_tensor(x_test, dtype=float), torch.as_tensor(y_test, dtype=torch.long))\n",
    "\n",
    "ex1b_params = MyParams(learning_rate=0.01, batch_size=10, optimizer='SDG', num_epoch=200, good_parameter_threshold=0.9)\n",
    "ex1b_trainer = MyTrainer(LinearModel, ex1b_params, training_set, test_set)\n",
    "ex1b_df = ex1b_trainer.result"
   ],
   "metadata": {
    "collapsed": false,
    "pycharm": {
     "name": "#%%\n",
     "is_executing": false
    }
   }
  },
  {
   "cell_type": "markdown",
   "source": [
    "## Ex 1. b) continue:\n",
    "- Plot the loss and accuracy\n",
    "- Print the good parameters that perform at least 90% accurate"
   ],
   "metadata": {
    "collapsed": false,
    "pycharm": {
     "name": "#%% md\n"
    }
   }
  },
  {
   "cell_type": "code",
   "execution_count": 8,
   "outputs": [
    {
     "data": {
      "text/plain": "<Figure size 432x288 with 1 Axes>",
      "image/png": "[encoded data removed]"
     },
     "metadata": {
      "needs_background": "light"
     },
     "output_type": "display_data"
    },
    {
     "name": "stdout",
     "text": [
      "\n",
      " The parameters that perform with (at least) 90.0% accuracy are:\n",
      "\n",
      "epoch 9.0: (accuracy, loss): (0.9000, 0.4640)\n",
      "    tensor([-0.2580,  2.4542], grad_fn=<SelectBackward>)\n",
      "    -0.02574341744184494\n",
      "    tensor([1.9756, 1.1101], grad_fn=<SelectBackward>)\n",
      "    -1.8388899564743042\n",
      "\n",
      "epoch 10.0: (accuracy, loss): (0.9062, 0.4281)\n",
      "    tensor([-0.2580,  2.4542], grad_fn=<SelectBackward>)\n",
      "    -0.02574341744184494\n",
      "    tensor([1.9756, 1.1101], grad_fn=<SelectBackward>)\n",
      "    -1.8388899564743042\n",
      "\n",
      "epoch 11.0: (accuracy, loss): (0.9000, 0.3938)\n",
      "    tensor([-0.2580,  2.4542], grad_fn=<SelectBackward>)\n",
      "    -0.02574341744184494\n",
      "    tensor([1.9756, 1.1101], grad_fn=<SelectBackward>)\n",
      "    -1.8388899564743042\n",
      "\n",
      "epoch 12.0: (accuracy, loss): (0.9000, 0.3645)\n",
      "    tensor([-0.2580,  2.4542], grad_fn=<SelectBackward>)\n",
      "    -0.02574341744184494\n",
      "    tensor([1.9756, 1.1101], grad_fn=<SelectBackward>)\n",
      "    -1.8388899564743042\n",
      "\n",
      "epoch 13.0: (accuracy, loss): (0.9000, 0.3391)\n",
      "    tensor([-0.2580,  2.4542], grad_fn=<SelectBackward>)\n",
      "    -0.02574341744184494\n",
      "    tensor([1.9756, 1.1101], grad_fn=<SelectBackward>)\n",
      "    -1.8388899564743042\n"
     ],
     "output_type": "stream"
    }
   ],
   "source": [
    "# ex1. b) continue, plot and print the results\n",
    "\n",
    "plot_loss_accuracy(ex1b_df, include_test=True)\n",
    "print_good_parameters(ex1b_df, ex1b_params)"
   ],
   "metadata": {
    "collapsed": false,
    "pycharm": {
     "name": "#%%\n",
     "is_executing": false
    }
   }
  },
  {
   "cell_type": "markdown",
   "source": [
    "## Ex 3. CNN with Fashion-MNIST dataset\n",
    "- the best accuracy on test set is ___0.9726___"
   ],
   "metadata": {
    "collapsed": false,
    "pycharm": {
     "name": "#%% md\n"
    }
   }
  },
  {
   "cell_type": "code",
   "execution_count": 9,
   "outputs": [
    {
     "name": "stdout",
     "text": [
      "-- epoch 0 --\n",
      "    loss (train, test): 0.5795, 0.2869\n",
      "    accuracy (train, test): 0.8300, 0.9180\n",
      "-- epoch 1 --\n",
      "    loss (train, test): 0.2766, 0.1865\n",
      "    accuracy (train, test): 0.9189, 0.9457\n",
      "-- epoch 2 --\n",
      "    loss (train, test): 0.1965, 0.1367\n",
      "    accuracy (train, test): 0.9422, 0.9611\n",
      "-- epoch 3 --\n",
      "    loss (train, test): 0.1540, 0.1053\n",
      "    accuracy (train, test): 0.9537, 0.9680\n",
      "-- epoch 4 --\n",
      "    loss (train, test): 0.1281, 0.0869\n",
      "    accuracy (train, test): 0.9615, 0.9726\n",
      "5 trainings is finished! Spent time 83.955983877182 seconds.\n",
      "Final loss (train, test): 0.1281, 0.0869\n",
      "Final accuracy (train, test): 0.9615, 0.9726\n"
     ],
     "output_type": "stream"
    }
   ],
   "source": [
    "# ex3. CNN\n",
    "from torchvision import datasets\n",
    "import torchvision.transforms as transforms\n",
    "from HW2_util import CNNNet as MyCNN\n",
    "\n",
    "MNIST_training_set = datasets.MNIST('./data/HW2/data_sets', train=True, download=True, transform=transforms.ToTensor())\n",
    "MNIST_test_set = datasets.MNIST('./data/HW2/data_sets', train=False, download=True, transform=transforms.ToTensor())\n",
    "\n",
    "my_parameters = MyParams(drop_out_rate=0.2, num_epoch=5, learning_rate=0.00015)\n",
    "cnn_trainer = MyTrainer(MyCNN, my_parameters, MNIST_training_set, MNIST_test_set)\n",
    "cnn_df = cnn_trainer.result"
   ],
   "metadata": {
    "collapsed": false,
    "pycharm": {
     "name": "#%%\n",
     "is_executing": false
    }
   }
  },
  {
   "cell_type": "markdown",
   "source": [
    "## Ex 3. continue:\n",
    "- Plot the loss and accuracy"
   ],
   "metadata": {
    "collapsed": false,
    "pycharm": {
     "name": "#%% md\n",
     "is_executing": false
    }
   }
  },
  {
   "cell_type": "code",
   "execution_count": 10,
   "outputs": [
    {
     "data": {
      "text/plain": "<Figure size 432x288 with 1 Axes>",
      "image/png": "[encoded data removed]"
     },
     "metadata": {
      "needs_background": "light"
     },
     "output_type": "display_data"
    }
   ],
   "source": [
    "# ex3. continue, plot the results\n",
    "plot_loss_accuracy(cnn_df, marker='o', include_test=True)\n"
   ],
   "metadata": {
    "collapsed": false,
    "pycharm": {
     "name": "#%%\n",
     "is_executing": false
    }
   }
  }
 ],
 "metadata": {
  "kernelspec": {
   "display_name": "Python 3",
   "language": "python",
   "name": "python3"
  },
  "language_info": {
   "codemirror_mode": {
    "name": "ipython",
    "version": 2
   },
   "file_extension": ".py",
   "mimetype": "text/x-python",
   "name": "python",
   "nbconvert_exporter": "python",
   "pygments_lexer": "ipython2",
   "version": "2.7.6"
  },
  "pycharm": {
   "stem_cell": {
    "cell_type": "raw",
    "source": [],
    "metadata": {
     "collapsed": false
    }
   }
  }
 },
 "nbformat": 4,
 "nbformat_minor": 0
}