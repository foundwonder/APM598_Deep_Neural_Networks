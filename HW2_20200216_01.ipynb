{
 "cells": [
  {
   "cell_type": "code",
   "execution_count": 6,
   "metadata": {
    "collapsed": true,
    "pycharm": {
     "is_executing": false
    }
   },
   "outputs": [
    {
     "name": "stdout",
     "text": [
      "\n",
      "107 trainings, model accuracy is 1.0\n",
      "('0.weight', Parameter containing:\n",
      "tensor([[0.0777, 0.6210],\n",
      "        [0.0948, 1.3197]], requires_grad=True))\n",
      "('0.bias', Parameter containing:\n",
      "tensor([ 0.5929, -0.0876], requires_grad=True))\n",
      "('2.weight', Parameter containing:\n",
      "tensor([[ 0.4562, -0.7750],\n",
      "        [-0.4880,  0.7934]], requires_grad=True))\n",
      "('2.bias', Parameter containing:\n",
      "tensor([0.5033, 0.5104], requires_grad=True))\n",
      "The loss is 0.09594463557004929\n",
      "\n",
      "108 trainings, model accuracy is 1.0\n",
      "('0.weight', Parameter containing:\n",
      "tensor([[0.0721, 0.6253],\n",
      "        [0.0841, 1.3339]], requires_grad=True))\n",
      "('0.bias', Parameter containing:\n",
      "tensor([ 0.6180, -0.0842], requires_grad=True))\n",
      "('2.weight', Parameter containing:\n",
      "tensor([[ 0.4755, -0.7856],\n",
      "        [-0.5064,  0.8046]], requires_grad=True))\n",
      "('2.bias', Parameter containing:\n",
      "tensor([0.4934, 0.5199], requires_grad=True))\n",
      "The loss is 0.09052065759897232\n",
      "\n",
      "109 trainings, model accuracy is 1.0\n",
      "('0.weight', Parameter containing:\n",
      "tensor([[0.0661, 0.6279],\n",
      "        [0.0745, 1.3488]], requires_grad=True))\n",
      "('0.bias', Parameter containing:\n",
      "tensor([ 0.6444, -0.0792], requires_grad=True))\n",
      "('2.weight', Parameter containing:\n",
      "tensor([[ 0.4946, -0.7968],\n",
      "        [-0.5245,  0.8163]], requires_grad=True))\n",
      "('2.bias', Parameter containing:\n",
      "tensor([0.4824, 0.5305], requires_grad=True))\n",
      "The loss is 0.08457260578870773\n",
      "\n",
      "110 trainings, model accuracy is 1.0\n",
      "('0.weight', Parameter containing:\n",
      "tensor([[0.0599, 0.6352],\n",
      "        [0.0659, 1.3642]], requires_grad=True))\n",
      "('0.bias', Parameter containing:\n",
      "tensor([ 0.6658, -0.0726], requires_grad=True))\n",
      "('2.weight', Parameter containing:\n",
      "tensor([[ 0.5132, -0.8085],\n",
      "        [-0.5421,  0.8284]], requires_grad=True))\n",
      "('2.bias', Parameter containing:\n",
      "tensor([0.4700, 0.5425], requires_grad=True))\n",
      "The loss is 0.08089186996221542\n"
     ],
     "output_type": "stream"
    }
   ],
   "source": [
    "# ex1 a)\n",
    "\n",
    "from HW2_util import TwoLayerLinearClassificationNN as TwoLayerNN\n",
    "\n",
    "training_data_x_ex1a = [[1,0],\n",
    "                        [-1,0],\n",
    "                        [0,1],\n",
    "                        [0,-1]]\n",
    "training_data_y_ex1a = [1,1,2,2]\n",
    "\n",
    "ex1a_model = TwoLayerNN(training_data_x_ex1a, training_data_y_ex1a)\n",
    "\n",
    "# have to run multiple times\n",
    "ex1a_model.find_good_parameters(5000, num_of_good_models=4)\n",
    "# ex1a_model.plot_loss_accuracy(num_epoch=5000, learning_rate=0.05)"
   ]
  },
  {
   "cell_type": "code",
   "execution_count": 7,
   "outputs": [
    {
     "name": "stdout",
     "text": [
      "\n",
      "339 trainings, model accuracy is 0.905\n",
      "('0.weight', Parameter containing:\n",
      "tensor([[-0.0434,  0.7717],\n",
      "        [ 0.1653, -0.4419]], requires_grad=True))\n",
      "('0.bias', Parameter containing:\n",
      "tensor([-0.1512,  0.2146], requires_grad=True))\n",
      "('2.weight', Parameter containing:\n",
      "tensor([[-0.3553, -0.2813],\n",
      "        [ 0.7624,  0.3256]], requires_grad=True))\n",
      "('2.bias', Parameter containing:\n",
      "tensor([0.6327, 0.2790], requires_grad=True))\n",
      "The loss is 0.17311884462833405\n",
      "\n",
      "340 trainings, model accuracy is 0.905\n",
      "('0.weight', Parameter containing:\n",
      "tensor([[-0.0435,  0.7733],\n",
      "        [ 0.1645, -0.4456]], requires_grad=True))\n",
      "('0.bias', Parameter containing:\n",
      "tensor([-0.1514,  0.2132], requires_grad=True))\n",
      "('2.weight', Parameter containing:\n",
      "tensor([[-0.3576, -0.2828],\n",
      "        [ 0.7630,  0.3279]], requires_grad=True))\n",
      "('2.bias', Parameter containing:\n",
      "tensor([0.6336, 0.2780], requires_grad=True))\n",
      "The loss is 0.17244598269462585\n",
      "\n",
      "341 trainings, model accuracy is 0.91\n",
      "('0.weight', Parameter containing:\n",
      "tensor([[-0.0436,  0.7748],\n",
      "        [ 0.1637, -0.4492]], requires_grad=True))\n",
      "('0.bias', Parameter containing:\n",
      "tensor([-0.1516,  0.2117], requires_grad=True))\n",
      "('2.weight', Parameter containing:\n",
      "tensor([[-0.3599, -0.2843],\n",
      "        [ 0.7635,  0.3302]], requires_grad=True))\n",
      "('2.bias', Parameter containing:\n",
      "tensor([0.6345, 0.2771], requires_grad=True))\n",
      "The loss is 0.17177553474903107\n",
      "\n",
      "342 trainings, model accuracy is 0.91\n",
      "('0.weight', Parameter containing:\n",
      "tensor([[-0.0437,  0.7763],\n",
      "        [ 0.1628, -0.4530]], requires_grad=True))\n",
      "('0.bias', Parameter containing:\n",
      "tensor([-0.1518,  0.2100], requires_grad=True))\n",
      "('2.weight', Parameter containing:\n",
      "tensor([[-0.3623, -0.2858],\n",
      "        [ 0.7640,  0.3326]], requires_grad=True))\n",
      "('2.bias', Parameter containing:\n",
      "tensor([0.6353, 0.2761], requires_grad=True))\n",
      "The loss is 0.1710984855890274\n"
     ],
     "output_type": "stream"
    }
   ],
   "source": [
    "# import pandas as pd\n",
    "# import numpy as np\n",
    "# # ex1 b)\n",
    "# \n",
    "# df = pd.read_csv('./data/data_HW2_ex1.csv')\n",
    "# X = np.column_stack((df['x1'].values, df['x2'].values))\n",
    "# y = df['class'].values\n",
    "# \n",
    "# ex1b_model = TwoLayerNN(X, y)\n",
    "# # ex1b_model.train_model_and_print(500)\n",
    "# # print(ex1b_model.measure_accuracy_in_training_data())\n",
    "# ex1b_model.find_good_parameters(500, num_of_good_models=4)"
   ],
   "metadata": {
    "collapsed": false,
    "pycharm": {
     "name": "#%%\n",
     "is_executing": false
    }
   }
  },
  {
   "cell_type": "code",
   "execution_count": 7,
   "outputs": [
    {
     "data": {
      "text/plain": "<Figure size 432x288 with 1 Axes>",
      "image/png": "[encoded data removed]"
     },
     "metadata": {
      "needs_background": "light"
     },
     "output_type": "display_data"
    },
    {
     "data": {
      "text/plain": "<Figure size 432x288 with 1 Axes>",
      "image/png": "[encoded data removed]"
     },
     "metadata": {
      "needs_background": "light"
     },
     "output_type": "display_data"
    },
    {
     "name": "stdout",
     "text": [
      "('0.weight', Parameter containing:\n",
      "tensor([[ 0.1722, -1.0780],\n",
      "        [-0.0582,  1.1227]], requires_grad=True))\n",
      "('0.bias', Parameter containing:\n",
      "tensor([-0.1749, -0.1451], requires_grad=True))\n",
      "('2.weight', Parameter containing:\n",
      "tensor([[-0.8108, -0.8024],\n",
      "        [ 0.8108,  0.8024]], requires_grad=True))\n",
      "('2.bias', Parameter containing:\n",
      "tensor([1.0000e+00, 3.7269e-07], requires_grad=True))\n"
     ],
     "output_type": "stream"
    }
   ],
   "source": [
    "import pandas as pd\n",
    "import numpy as np\n",
    "from HW2_util import TwoLayerLinearClassificationNN as TwoLayerNN\n",
    "\n",
    "df = pd.read_csv('./data/data_HW2_ex1.csv')\n",
    "X = np.column_stack((df['x1'].values, df['x2'].values))\n",
    "y = df['class'].values\n",
    "\n",
    "ex1b_model = TwoLayerNN(X, y)\n",
    "ex1b_model.plot_loss_accuracy(num_epoch=500, learning_rate=0.03)\n",
    "ex1b_model.print_parameters()"
   ],
   "metadata": {
    "collapsed": false,
    "pycharm": {
     "name": "#%%\n",
     "is_executing": false
    }
   }
  }
 ],
 "metadata": {
  "kernelspec": {
   "display_name": "Python 3",
   "language": "python",
   "name": "python3"
  },
  "language_info": {
   "codemirror_mode": {
    "name": "ipython",
    "version": 2
   },
   "file_extension": ".py",
   "mimetype": "text/x-python",
   "name": "python",
   "nbconvert_exporter": "python",
   "pygments_lexer": "ipython2",
   "version": "2.7.6"
  },
  "pycharm": {
   "stem_cell": {
    "cell_type": "raw",
    "source": [],
    "metadata": {
     "collapsed": false
    }
   }
  }
 },
 "nbformat": 4,
 "nbformat_minor": 0
}