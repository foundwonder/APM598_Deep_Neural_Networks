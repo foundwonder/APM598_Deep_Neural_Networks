{
 "cells": [
  {
   "cell_type": "markdown",
   "metadata": {
    "collapsed": true,
    "pycharm": {
     "is_executing": false,
     "name": "#%% md\n"
    }
   },
   "source": [
    "# Code for HW2 APM598\n",
    "- Author: Jieshu Wang (jwang490@asu.edu)\n",
    "- Feb 2020\n",
    "- Two-layer linear neural networks and CNN (Convolutional Neural Networks)\n",
    "- need to import HW2_util.py"
   ]
  },
  {
   "cell_type": "markdown",
   "source": [
    "## Ex 1. a) Two-layer NN with four data points"
   ],
   "metadata": {
    "collapsed": false,
    "pycharm": {
     "name": "#%% md\n"
    }
   }
  },
  {
   "cell_type": "code",
   "execution_count": 9,
   "outputs": [
    {
     "name": "stdout",
     "text": [
      "-- epoch 0 --\n",
      "    loss: 0.7340\n",
      "    accuracy: 0.5000\n",
      "-- epoch 60 --\n",
      "    loss: 0.5436\n",
      "    accuracy: 0.7500\n",
      "-- epoch 120 --\n",
      "    loss: 0.1625\n",
      "    accuracy: 1.0000\n",
      "-- epoch 180 --\n",
      "    loss: 0.0557\n",
      "    accuracy: 1.0000\n",
      "-- epoch 240 --\n",
      "    loss: 0.0294\n",
      "    accuracy: 1.0000\n",
      "300 trainings is finished! Spent time 0.5939559936523438 seconds.\n",
      "Final training loss: 0.0188\n",
      "Final training accuracy: 1.0000\n"
     ],
     "output_type": "stream"
    }
   ],
   "source": [
    "# 1. Two-layers Neural Networks\n",
    "# ex1. a) find parameters that satisfies the four data points. \n",
    "from torch.utils.data import TensorDataset\n",
    "import torch\n",
    "from HW2_util import ModuleParams as MyParams, TwoLayerReluClassificationModel as LinearModel, MyNNTrainer as MyTrainer\n",
    "\n",
    "training_data_x_ex1a = [[1,0],\n",
    "                        [-1,0],\n",
    "                        [0,1],\n",
    "                        [0,-1]]\n",
    "training_data_y_ex1a = [0,0,1,1]\n",
    "training_data_ex1a = TensorDataset(torch.as_tensor(training_data_x_ex1a, dtype=float),\n",
    "                              torch.as_tensor(training_data_y_ex1a, dtype=torch.long))\n",
    "\n",
    "ex1a_params = MyParams(learning_rate=0.01, batch_size=4, optimizer='Adam', \n",
    "                       num_epoch=300, good_parameter_threshold=0.9)\n",
    "\n",
    "ex1a_model = MyTrainer(LinearModel, ex1a_params, training_data_ex1a)\n",
    "ex1a_df = ex1a_model.result"
   ],
   "metadata": {
    "collapsed": false,
    "pycharm": {
     "name": "#%%\n",
     "is_executing": false
    }
   }
  },
  {
   "cell_type": "markdown",
   "source": [
    "## Ex 1. a) continue:\n",
    "- Plot the loss and accuracy\n",
    "- Print the good parameters that perform at least 90% accurate"
   ],
   "metadata": {
    "collapsed": false,
    "pycharm": {
     "name": "#%% md\n"
    }
   }
  },
  {
   "cell_type": "code",
   "execution_count": 10,
   "outputs": [
    {
     "data": {
      "text/plain": "<Figure size 432x288 with 1 Axes>",
      "image/png": "[encoded data removed]"
     },
     "metadata": {
      "needs_background": "light"
     },
     "output_type": "display_data"
    },
    {
     "name": "stdout",
     "text": [
      "\n",
      " The parameters that perform with (at least) 90.0% accuracy are:\n",
      "\n",
      "-- epoch 66.0: (accuracy, loss): (1.0000, 0.5125)\n",
      "    _model.0.weight\n",
      "    Parameter containing:\n",
      "tensor([[ 2.3722e+00, -1.1418e-03],\n",
      "        [-2.3012e+00,  9.9305e-06]], requires_grad=True)\n",
      "    _model.0.bias\n",
      "    Parameter containing:\n",
      "tensor([-0.0013, -0.0027], requires_grad=True)\n",
      "    _model.2.weight\n",
      "    Parameter containing:\n",
      "tensor([[ 1.6330,  1.2265],\n",
      "        [-1.8264, -2.4251]], requires_grad=True)\n",
      "    _model.2.bias\n",
      "    Parameter containing:\n",
      "tensor([-1.5135,  2.0175], requires_grad=True)\n",
      "\n",
      "-- epoch 67.0: (accuracy, loss): (1.0000, 0.5063)\n",
      "    _model.0.weight\n",
      "    Parameter containing:\n",
      "tensor([[ 2.3722e+00, -1.1418e-03],\n",
      "        [-2.3012e+00,  9.9305e-06]], requires_grad=True)\n",
      "    _model.0.bias\n",
      "    Parameter containing:\n",
      "tensor([-0.0013, -0.0027], requires_grad=True)\n",
      "    _model.2.weight\n",
      "    Parameter containing:\n",
      "tensor([[ 1.6330,  1.2265],\n",
      "        [-1.8264, -2.4251]], requires_grad=True)\n",
      "    _model.2.bias\n",
      "    Parameter containing:\n",
      "tensor([-1.5135,  2.0175], requires_grad=True)\n",
      "\n",
      "-- epoch 68.0: (accuracy, loss): (1.0000, 0.5002)\n",
      "    _model.0.weight\n",
      "    Parameter containing:\n",
      "tensor([[ 2.3722e+00, -1.1418e-03],\n",
      "        [-2.3012e+00,  9.9305e-06]], requires_grad=True)\n",
      "    _model.0.bias\n",
      "    Parameter containing:\n",
      "tensor([-0.0013, -0.0027], requires_grad=True)\n",
      "    _model.2.weight\n",
      "    Parameter containing:\n",
      "tensor([[ 1.6330,  1.2265],\n",
      "        [-1.8264, -2.4251]], requires_grad=True)\n",
      "    _model.2.bias\n",
      "    Parameter containing:\n",
      "tensor([-1.5135,  2.0175], requires_grad=True)\n",
      "\n",
      "-- epoch 69.0: (accuracy, loss): (1.0000, 0.4942)\n",
      "    _model.0.weight\n",
      "    Parameter containing:\n",
      "tensor([[ 2.3722e+00, -1.1418e-03],\n",
      "        [-2.3012e+00,  9.9305e-06]], requires_grad=True)\n",
      "    _model.0.bias\n",
      "    Parameter containing:\n",
      "tensor([-0.0013, -0.0027], requires_grad=True)\n",
      "    _model.2.weight\n",
      "    Parameter containing:\n",
      "tensor([[ 1.6330,  1.2265],\n",
      "        [-1.8264, -2.4251]], requires_grad=True)\n",
      "    _model.2.bias\n",
      "    Parameter containing:\n",
      "tensor([-1.5135,  2.0175], requires_grad=True)\n",
      "\n",
      "-- epoch 70.0: (accuracy, loss): (1.0000, 0.4878)\n",
      "    _model.0.weight\n",
      "    Parameter containing:\n",
      "tensor([[ 2.3722e+00, -1.1418e-03],\n",
      "        [-2.3012e+00,  9.9305e-06]], requires_grad=True)\n",
      "    _model.0.bias\n",
      "    Parameter containing:\n",
      "tensor([-0.0013, -0.0027], requires_grad=True)\n",
      "    _model.2.weight\n",
      "    Parameter containing:\n",
      "tensor([[ 1.6330,  1.2265],\n",
      "        [-1.8264, -2.4251]], requires_grad=True)\n",
      "    _model.2.bias\n",
      "    Parameter containing:\n",
      "tensor([-1.5135,  2.0175], requires_grad=True)\n"
     ],
     "output_type": "stream"
    }
   ],
   "source": [
    "# ex1. a) continue\n",
    "# plot the loss and accuracy \n",
    "from HW2_util import plot_loss_accuracy, print_good_parameters\n",
    "\n",
    "plot_loss_accuracy(ex1a_df, include_test=False)\n",
    "print_good_parameters(ex1a_df, ex1a_params)"
   ],
   "metadata": {
    "collapsed": false,
    "pycharm": {
     "name": "#%%\n",
     "is_executing": false
    }
   }
  },
  {
   "cell_type": "markdown",
   "source": [
    "## Ex 1. b) Two-layer NN with many data points"
   ],
   "metadata": {
    "collapsed": false,
    "pycharm": {
     "name": "#%% md\n"
    }
   }
  },
  {
   "cell_type": "code",
   "execution_count": 24,
   "outputs": [
    {
     "name": "stdout",
     "text": [
      "-- epoch 0 --\n",
      "    loss (train, test): 0.7124, 0.6914\n",
      "    accuracy (train, test): 0.5062, 0.4750\n",
      "-- epoch 10 --\n",
      "    loss (train, test): 0.5302, 0.5130\n",
      "    accuracy (train, test): 0.6937, 0.7250\n",
      "-- epoch 20 --\n",
      "    loss (train, test): 0.2550, 0.2481\n",
      "    accuracy (train, test): 0.9187, 0.9250\n",
      "-- epoch 30 --\n",
      "    loss (train, test): 0.2088, 0.1988\n",
      "    accuracy (train, test): 0.9125, 0.9250\n",
      "-- epoch 40 --\n",
      "    loss (train, test): 0.1956, 0.1867\n",
      "    accuracy (train, test): 0.9187, 0.9250\n",
      "50 trainings is finished! Spent time 0.6358139514923096 seconds.\n",
      "Final loss (train, test): 0.1911, 0.1885\n",
      "Final accuracy (train, test): 0.9187, 0.9250\n"
     ],
     "output_type": "stream"
    }
   ],
   "source": [
    "# ex1. b) provide accuracy of the two-layer nn for the dataset\n",
    "\n",
    "import pandas as pd\n",
    "import numpy as np\n",
    "import torch\n",
    "from sklearn.model_selection import train_test_split\n",
    "from torch.utils.data import TensorDataset\n",
    "\n",
    "training_df_ex1b = pd.read_csv('./data/data_HW2_ex1.csv')\n",
    "X = np.column_stack((training_df_ex1b['x1'].values, training_df_ex1b['x2'].values))\n",
    "y = training_df_ex1b['class'].values - 1\n",
    "\n",
    "x_train, x_test, y_train, y_test = train_test_split(X, y, test_size=0.2, random_state=42)\n",
    "training_set = TensorDataset(torch.as_tensor(x_train, dtype=float), torch.as_tensor(y_train, dtype=torch.long))\n",
    "test_set = TensorDataset(torch.as_tensor(x_test, dtype=float), torch.as_tensor(y_test, dtype=torch.long))\n",
    "\n",
    "ex1b_params = MyParams(learning_rate=0.01, batch_size=10, optimizer='Adam', num_epoch=50, good_parameter_threshold=0.9)\n",
    "ex1b_trainer = MyTrainer(LinearModel, ex1b_params, training_set, test_set)\n",
    "ex1b_df = ex1b_trainer.result"
   ],
   "metadata": {
    "collapsed": false,
    "pycharm": {
     "name": "#%%\n",
     "is_executing": false
    }
   }
  },
  {
   "cell_type": "markdown",
   "source": [
    "## Ex 1. b) continue:\n",
    "- Plot the loss and accuracy\n",
    "- Print the good parameters that perform at least 90% accurate"
   ],
   "metadata": {
    "collapsed": false,
    "pycharm": {
     "name": "#%% md\n"
    }
   }
  },
  {
   "cell_type": "code",
   "execution_count": 25,
   "outputs": [
    {
     "data": {
      "text/plain": "<Figure size 432x288 with 1 Axes>",
      "image/png": "[encoded data removed]"
     },
     "metadata": {
      "needs_background": "light"
     },
     "output_type": "display_data"
    },
    {
     "name": "stdout",
     "text": [
      "\n",
      " The parameters that perform with (at least) 90.0% accuracy are:\n",
      "\n",
      "-- epoch 13.0: (accuracy, loss): (0.9125, 0.4130)\n",
      "    _model.0.weight\n",
      "    Parameter containing:\n",
      "tensor([[-0.2642,  2.3537],\n",
      "        [ 0.3514, -2.7295]], requires_grad=True)\n",
      "    _model.0.bias\n",
      "    Parameter containing:\n",
      "tensor([-0.3517, -0.9079], requires_grad=True)\n",
      "    _model.2.weight\n",
      "    Parameter containing:\n",
      "tensor([[-1.0339, -1.8608],\n",
      "        [ 1.8832,  1.7199]], requires_grad=True)\n",
      "    _model.2.bias\n",
      "    Parameter containing:\n",
      "tensor([ 1.2257, -2.1709], requires_grad=True)\n",
      "\n",
      "-- epoch 14.0: (accuracy, loss): (0.9000, 0.3671)\n",
      "    _model.0.weight\n",
      "    Parameter containing:\n",
      "tensor([[-0.2642,  2.3537],\n",
      "        [ 0.3514, -2.7295]], requires_grad=True)\n",
      "    _model.0.bias\n",
      "    Parameter containing:\n",
      "tensor([-0.3517, -0.9079], requires_grad=True)\n",
      "    _model.2.weight\n",
      "    Parameter containing:\n",
      "tensor([[-1.0339, -1.8608],\n",
      "        [ 1.8832,  1.7199]], requires_grad=True)\n",
      "    _model.2.bias\n",
      "    Parameter containing:\n",
      "tensor([ 1.2257, -2.1709], requires_grad=True)\n",
      "\n",
      "-- epoch 15.0: (accuracy, loss): (0.9000, 0.3350)\n",
      "    _model.0.weight\n",
      "    Parameter containing:\n",
      "tensor([[-0.2642,  2.3537],\n",
      "        [ 0.3514, -2.7295]], requires_grad=True)\n",
      "    _model.0.bias\n",
      "    Parameter containing:\n",
      "tensor([-0.3517, -0.9079], requires_grad=True)\n",
      "    _model.2.weight\n",
      "    Parameter containing:\n",
      "tensor([[-1.0339, -1.8608],\n",
      "        [ 1.8832,  1.7199]], requires_grad=True)\n",
      "    _model.2.bias\n",
      "    Parameter containing:\n",
      "tensor([ 1.2257, -2.1709], requires_grad=True)\n",
      "\n",
      "-- epoch 16.0: (accuracy, loss): (0.9000, 0.3105)\n",
      "    _model.0.weight\n",
      "    Parameter containing:\n",
      "tensor([[-0.2642,  2.3537],\n",
      "        [ 0.3514, -2.7295]], requires_grad=True)\n",
      "    _model.0.bias\n",
      "    Parameter containing:\n",
      "tensor([-0.3517, -0.9079], requires_grad=True)\n",
      "    _model.2.weight\n",
      "    Parameter containing:\n",
      "tensor([[-1.0339, -1.8608],\n",
      "        [ 1.8832,  1.7199]], requires_grad=True)\n",
      "    _model.2.bias\n",
      "    Parameter containing:\n",
      "tensor([ 1.2257, -2.1709], requires_grad=True)\n",
      "\n",
      "-- epoch 17.0: (accuracy, loss): (0.9062, 0.2907)\n",
      "    _model.0.weight\n",
      "    Parameter containing:\n",
      "tensor([[-0.2642,  2.3537],\n",
      "        [ 0.3514, -2.7295]], requires_grad=True)\n",
      "    _model.0.bias\n",
      "    Parameter containing:\n",
      "tensor([-0.3517, -0.9079], requires_grad=True)\n",
      "    _model.2.weight\n",
      "    Parameter containing:\n",
      "tensor([[-1.0339, -1.8608],\n",
      "        [ 1.8832,  1.7199]], requires_grad=True)\n",
      "    _model.2.bias\n",
      "    Parameter containing:\n",
      "tensor([ 1.2257, -2.1709], requires_grad=True)\n"
     ],
     "output_type": "stream"
    }
   ],
   "source": [
    "# ex1. b) continue, plot and print the results\n",
    "\n",
    "plot_loss_accuracy(ex1b_df, include_test=True)\n",
    "print_good_parameters(ex1b_df, ex1b_params)"
   ],
   "metadata": {
    "collapsed": false,
    "pycharm": {
     "name": "#%%\n",
     "is_executing": false
    }
   }
  },
  {
   "cell_type": "markdown",
   "source": [
    "## Ex 2. N.N. Approximate functions\n",
    "### Ex 2. c) write a program that returns a two layer n.n."
   ],
   "metadata": {
    "collapsed": false,
    "pycharm": {
     "name": "#%% md\n"
    }
   }
  },
  {
   "cell_type": "code",
   "execution_count": 26,
   "outputs": [],
   "source": [
    "# ex2c\n",
    "from dataclasses import dataclass\n",
    "\n",
    "# generate random data points\n",
    "number_data = 30  # number of points\n",
    "y_start, y_stop = 0.0, 5.0\n",
    "x_data_2c = np.sort(np.random.rand(number_data))\n",
    "x_data_2c_tensor = torch.as_tensor(x_data_2c, dtype=float)\n",
    "y_data_2c = (y_stop-y_start)*np.random.rand(number_data) + y_start\n",
    "y_data_2c_tensor = torch.as_tensor(y_data_2c)\n",
    "y_data_2c_tensor = y_data_2c_tensor.float().view(number_data,1)\n",
    "training_data_ex2c = TensorDataset(x_data_2c_tensor, y_data_2c_tensor)\n",
    "\n",
    "def find_params(x, y):\n",
    "    w1 = [1.0 for i in x]\n",
    "    b1 = [-i for i in x]\n",
    "    b2 = y[0]\n",
    "    w1_mat, b1_mat = np.mat(w1), np.mat(b1).T\n",
    "    b1_mat_repeat = np.repeat(b1_mat, len(x), axis=1)\n",
    "    x_mat, y_mat = np.mat(x), np.mat(y)\n",
    "    z_mat = w1_mat.T@x_mat\n",
    "    z_mat += b1_mat_repeat\n",
    "    z_mat_relu = np.mat(np.where(z_mat<0, 0, z_mat)).T\n",
    "    y_b = (y_mat-b2).T\n",
    "    w2_mat = np.linalg.pinv(z_mat_relu)@y_b\n",
    "    w2 = np.asarray(w2_mat)\n",
    "    return w1, b1, w2, b2\n",
    "\n",
    "w1, b1, w2, b2 = find_params(x_data_2c, y_data_2c)\n"
   ],
   "metadata": {
    "collapsed": false,
    "pycharm": {
     "name": "#%%\n",
     "is_executing": false
    }
   }
  },
  {
   "cell_type": "markdown",
   "source": [
    "### Ex2. c) test how well the parameters I just found approximate the data points. "
   ],
   "metadata": {
    "collapsed": false,
    "pycharm": {
     "name": "#%% md\n"
    }
   }
  },
  {
   "cell_type": "code",
   "execution_count": 27,
   "outputs": [
    {
     "name": "stdout",
     "text": [
      "The errors of each data points are:\n",
      "0.0000\n",
      "-0.0000\n",
      "-0.0000\n",
      "-0.0000\n",
      "-0.0000\n",
      "-0.0000\n",
      "-0.0000\n",
      "-0.0000\n",
      "-0.0000\n",
      "0.0000\n",
      "-0.0000\n",
      "-0.0000\n",
      "-0.0000\n",
      "-0.0000\n",
      "-0.0000\n",
      "-0.0000\n",
      "-0.0000\n",
      "-0.0000\n",
      "-0.0000\n",
      "-0.0000\n",
      "-0.0000\n",
      "-0.0000\n",
      "-0.0000\n",
      "-0.0000\n",
      "-0.0000\n",
      "-0.0000\n",
      "-0.0000\n",
      "-0.0000\n",
      "-0.0000\n",
      "-0.0000\n"
     ],
     "output_type": "stream"
    }
   ],
   "source": [
    "print('The errors of each data points are:')\n",
    "for i in range(number_data):\n",
    "    z = [max(0, x_data_2c[i]+b1[j]) for j in range(number_data)]\n",
    "    score = sum([z[j]*w2[j] for j in range(number_data)]) + b2\n",
    "    error = float(score - y_data_2c[i])\n",
    "    print(f'{error:.4f}')"
   ],
   "metadata": {
    "collapsed": false,
    "pycharm": {
     "name": "#%%\n",
     "is_executing": false
    }
   }
  },
  {
   "cell_type": "markdown",
   "source": [
    "## Ex 3. CNN with Fashion-MNIST dataset\n",
    "- the best accuracy on test set is ___0.8916___"
   ],
   "metadata": {
    "collapsed": false,
    "pycharm": {
     "name": "#%% md\n"
    }
   }
  },
  {
   "cell_type": "code",
   "execution_count": 31,
   "outputs": [
    {
     "name": "stdout",
     "text": [
      "-- epoch 0 --\n",
      "    loss (train, test): 0.5480, 0.4208\n",
      "    accuracy (train, test): 0.8026, 0.8492\n",
      "-- epoch 2 --\n",
      "    loss (train, test): 0.3667, 0.3462\n",
      "    accuracy (train, test): 0.8690, 0.8755\n",
      "-- epoch 4 --\n",
      "    loss (train, test): 0.3265, 0.3260\n",
      "    accuracy (train, test): 0.8825, 0.8812\n",
      "-- epoch 6 --\n",
      "    loss (train, test): 0.3103, 0.3116\n",
      "    accuracy (train, test): 0.8871, 0.8883\n",
      "-- epoch 8 --\n",
      "    loss (train, test): 0.2971, 0.3017\n",
      "    accuracy (train, test): 0.8926, 0.8894\n",
      "10 trainings is finished! Spent time 167.53621697425842 seconds.\n",
      "Final loss (train, test): 0.2954, 0.3021\n",
      "Final accuracy (train, test): 0.8926, 0.8916\n"
     ],
     "output_type": "stream"
    }
   ],
   "source": [
    "# ex3. CNN\n",
    "from torchvision import datasets\n",
    "import torchvision.transforms as transforms\n",
    "from HW2_util import CNNNet as MyCNN\n",
    "\n",
    "MNIST_training_set = datasets.FashionMNIST('./data/HW2/data_sets', train=True, download=True, transform=transforms.ToTensor())\n",
    "MNIST_test_set = datasets.FashionMNIST('./data/HW2/data_sets', train=False, download=True, transform=transforms.ToTensor())\n",
    "\n",
    "my_parameters = MyParams(drop_out_rate=0.2, num_epoch=10, learning_rate=0.001)\n",
    "cnn_trainer = MyTrainer(MyCNN, my_parameters, MNIST_training_set, MNIST_test_set)\n",
    "cnn_df = cnn_trainer.result"
   ],
   "metadata": {
    "collapsed": false,
    "pycharm": {
     "name": "#%%\n",
     "is_executing": false
    }
   }
  },
  {
   "cell_type": "markdown",
   "source": [
    "## Ex 3. continue:\n",
    "- Plot the loss and accuracy"
   ],
   "metadata": {
    "collapsed": false,
    "pycharm": {
     "name": "#%% md\n",
     "is_executing": false
    }
   }
  },
  {
   "cell_type": "code",
   "execution_count": 7,
   "outputs": [
    {
     "data": {
      "text/plain": "<Figure size 432x288 with 1 Axes>",
      "image/png": "[encoded data removed]"
     },
     "metadata": {
      "needs_background": "light"
     },
     "output_type": "display_data"
    },
    {
     "name": "stdout",
     "text": [
      "CNNNet(\n",
      "  (_features): Sequential(\n",
      "    (0): Conv2d(1, 4, kernel_size=(3, 3), stride=(1, 1))\n",
      "    (1): ReLU()\n",
      "    (2): MaxPool2d(kernel_size=2, stride=2, padding=0, dilation=1, ceil_mode=False)\n",
      "    (3): Conv2d(4, 8, kernel_size=(5, 5), stride=(1, 1))\n",
      "    (4): ReLU()\n",
      "  )\n",
      "  (_classifier): Sequential(\n",
      "    (0): Dropout(p=0.2, inplace=False)\n",
      "    (1): Linear(in_features=648, out_features=10, bias=True)\n",
      "  )\n",
      ")\n"
     ],
     "output_type": "stream"
    }
   ],
   "source": [
    "# ex3. continue, plot the results\n",
    "plot_loss_accuracy(cnn_df, marker='o', include_test=True)\n",
    "# print(cnn_trainer.model)"
   ],
   "metadata": {
    "collapsed": false,
    "pycharm": {
     "name": "#%%\n",
     "is_executing": false
    }
   }
  }
 ],
 "metadata": {
  "kernelspec": {
   "display_name": "Python 3",
   "language": "python",
   "name": "python3"
  },
  "language_info": {
   "codemirror_mode": {
    "name": "ipython",
    "version": 2
   },
   "file_extension": ".py",
   "mimetype": "text/x-python",
   "name": "python",
   "nbconvert_exporter": "python",
   "pygments_lexer": "ipython2",
   "version": "2.7.6"
  },
  "pycharm": {
   "stem_cell": {
    "cell_type": "raw",
    "source": [],
    "metadata": {
     "collapsed": false
    }
   }
  }
 },
 "nbformat": 4,
 "nbformat_minor": 0
}