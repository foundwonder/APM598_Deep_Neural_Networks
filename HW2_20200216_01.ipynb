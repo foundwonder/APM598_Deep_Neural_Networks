{
 "cells": [
  {
   "cell_type": "code",
   "execution_count": 51,
   "metadata": {
    "collapsed": true,
    "pycharm": {
     "is_executing": false
    }
   },
   "outputs": [
    {
     "name": "stdout",
     "text": [
      "\n",
      "344 trainings, model accuracy is 1.0\n",
      "('0.weight', Parameter containing:\n",
      "tensor([[ 0.0028, -1.2003],\n",
      "        [-0.0942, -0.5903]], requires_grad=True))\n",
      "('0.bias', Parameter containing:\n",
      "tensor([-0.0013,  0.5869], requires_grad=True))\n",
      "('2.weight', Parameter containing:\n",
      "tensor([[-0.6277,  0.2736],\n",
      "        [ 0.9089, -0.5926]], requires_grad=True))\n",
      "('2.bias', Parameter containing:\n",
      "tensor([0.5468, 0.5486], requires_grad=True))\n",
      "The loss is 0.09791567921638489\n",
      "\n",
      "345 trainings, model accuracy is 1.0\n",
      "('0.weight', Parameter containing:\n",
      "tensor([[-0.0026, -1.2019],\n",
      "        [-0.0932, -0.5895]], requires_grad=True))\n",
      "('0.bias', Parameter containing:\n",
      "tensor([-0.0051,  0.5911], requires_grad=True))\n",
      "('2.weight', Parameter containing:\n",
      "tensor([[-0.6294,  0.2761],\n",
      "        [ 0.9098, -0.5945]], requires_grad=True))\n",
      "('2.bias', Parameter containing:\n",
      "tensor([0.5458, 0.5499], requires_grad=True))\n",
      "The loss is 0.0975758507847786\n",
      "\n",
      "346 trainings, model accuracy is 1.0\n",
      "('0.weight', Parameter containing:\n",
      "tensor([[-0.0026, -1.2035],\n",
      "        [-0.0922, -0.5939]], requires_grad=True))\n",
      "('0.bias', Parameter containing:\n",
      "tensor([-0.0035,  0.5899], requires_grad=True))\n",
      "('2.weight', Parameter containing:\n",
      "tensor([[-0.6312,  0.2786],\n",
      "        [ 0.9107, -0.5964]], requires_grad=True))\n",
      "('2.bias', Parameter containing:\n",
      "tensor([0.5448, 0.5514], requires_grad=True))\n",
      "The loss is 0.09693203866481781\n",
      "\n",
      "347 trainings, model accuracy is 1.0\n",
      "('0.weight', Parameter containing:\n",
      "tensor([[-0.0026, -1.2051],\n",
      "        [-0.0912, -0.5930]], requires_grad=True))\n",
      "('0.bias', Parameter containing:\n",
      "tensor([-0.0018,  0.5941], requires_grad=True))\n",
      "('2.weight', Parameter containing:\n",
      "tensor([[-0.6329,  0.2811],\n",
      "        [ 0.9117, -0.5983]], requires_grad=True))\n",
      "('2.bias', Parameter containing:\n",
      "tensor([0.5438, 0.5528], requires_grad=True))\n",
      "The loss is 0.0964733213186264\n"
     ],
     "output_type": "stream"
    }
   ],
   "source": [
    "# ex1 a)\n",
    "\n",
    "from HW2_util import TwoLayerLinearClassificationNN as TwoLayerNN\n",
    "\n",
    "training_data_x_ex1a = [[1,0],\n",
    "                        [-1,0],\n",
    "                        [0,1],\n",
    "                        [0,-1]]\n",
    "training_data_y_ex1a = [1,1,2,2]\n",
    "\n",
    "ex1a_model = TwoLayerNN(training_data_x_ex1a, training_data_y_ex1a)\n",
    "\n",
    "# have to run multiple times\n",
    "ex1a_model.find_good_parameters(5000, num_of_good_models=4)\n",
    "# ex1a_model.plot_loss_accuracy(num_epoch=5000, learning_rate=0.05)"
   ]
  },
  {
   "cell_type": "code",
   "execution_count": 7,
   "outputs": [
    {
     "name": "stdout",
     "text": [
      "\n",
      "339 trainings, model accuracy is 0.905\n",
      "('0.weight', Parameter containing:\n",
      "tensor([[-0.0434,  0.7717],\n",
      "        [ 0.1653, -0.4419]], requires_grad=True))\n",
      "('0.bias', Parameter containing:\n",
      "tensor([-0.1512,  0.2146], requires_grad=True))\n",
      "('2.weight', Parameter containing:\n",
      "tensor([[-0.3553, -0.2813],\n",
      "        [ 0.7624,  0.3256]], requires_grad=True))\n",
      "('2.bias', Parameter containing:\n",
      "tensor([0.6327, 0.2790], requires_grad=True))\n",
      "The loss is 0.17311884462833405\n",
      "\n",
      "340 trainings, model accuracy is 0.905\n",
      "('0.weight', Parameter containing:\n",
      "tensor([[-0.0435,  0.7733],\n",
      "        [ 0.1645, -0.4456]], requires_grad=True))\n",
      "('0.bias', Parameter containing:\n",
      "tensor([-0.1514,  0.2132], requires_grad=True))\n",
      "('2.weight', Parameter containing:\n",
      "tensor([[-0.3576, -0.2828],\n",
      "        [ 0.7630,  0.3279]], requires_grad=True))\n",
      "('2.bias', Parameter containing:\n",
      "tensor([0.6336, 0.2780], requires_grad=True))\n",
      "The loss is 0.17244598269462585\n",
      "\n",
      "341 trainings, model accuracy is 0.91\n",
      "('0.weight', Parameter containing:\n",
      "tensor([[-0.0436,  0.7748],\n",
      "        [ 0.1637, -0.4492]], requires_grad=True))\n",
      "('0.bias', Parameter containing:\n",
      "tensor([-0.1516,  0.2117], requires_grad=True))\n",
      "('2.weight', Parameter containing:\n",
      "tensor([[-0.3599, -0.2843],\n",
      "        [ 0.7635,  0.3302]], requires_grad=True))\n",
      "('2.bias', Parameter containing:\n",
      "tensor([0.6345, 0.2771], requires_grad=True))\n",
      "The loss is 0.17177553474903107\n",
      "\n",
      "342 trainings, model accuracy is 0.91\n",
      "('0.weight', Parameter containing:\n",
      "tensor([[-0.0437,  0.7763],\n",
      "        [ 0.1628, -0.4530]], requires_grad=True))\n",
      "('0.bias', Parameter containing:\n",
      "tensor([-0.1518,  0.2100], requires_grad=True))\n",
      "('2.weight', Parameter containing:\n",
      "tensor([[-0.3623, -0.2858],\n",
      "        [ 0.7640,  0.3326]], requires_grad=True))\n",
      "('2.bias', Parameter containing:\n",
      "tensor([0.6353, 0.2761], requires_grad=True))\n",
      "The loss is 0.1710984855890274\n"
     ],
     "output_type": "stream"
    }
   ],
   "source": [
    "# import pandas as pd\n",
    "# import numpy as np\n",
    "# # ex1 b)\n",
    "# \n",
    "# df = pd.read_csv('./data/data_HW2_ex1.csv')\n",
    "# X = np.column_stack((df['x1'].values, df['x2'].values))\n",
    "# y = df['class'].values\n",
    "# \n",
    "# ex1b_model = TwoLayerNN(X, y)\n",
    "# # ex1b_model.train_model_and_print(500)\n",
    "# # print(ex1b_model.measure_accuracy_in_training_data())\n",
    "# ex1b_model.find_good_parameters(500, num_of_good_models=4)"
   ],
   "metadata": {
    "collapsed": false,
    "pycharm": {
     "name": "#%%\n",
     "is_executing": false
    }
   }
  },
  {
   "cell_type": "code",
   "execution_count": 65,
   "outputs": [
    {
     "data": {
      "text/plain": "<Figure size 432x288 with 1 Axes>",
      "image/png": "[encoded data removed]"
     },
     "metadata": {
      "needs_background": "light"
     },
     "output_type": "display_data"
    },
    {
     "data": {
      "text/plain": "<Figure size 432x288 with 1 Axes>",
      "image/png": "[encoded data removed]"
     },
     "metadata": {
      "needs_background": "light"
     },
     "output_type": "display_data"
    }
   ],
   "source": [
    "import pandas as pd\n",
    "import numpy as np\n",
    "from HW2_util import TwoLayerLinearClassificationNN as TwoLayerNN\n",
    "\n",
    "df = pd.read_csv('./data/data_HW2_ex1.csv')\n",
    "X = np.column_stack((df['x1'].values, df['x2'].values))\n",
    "y = df['class'].values\n",
    "\n",
    "ex1b_model = TwoLayerNN(X, y)\n",
    "ex1b_model.plot_loss_accuracy(num_epoch=500, learning_rate=0.03)"
   ],
   "metadata": {
    "collapsed": false,
    "pycharm": {
     "name": "#%%\n",
     "is_executing": false
    }
   }
  }
 ],
 "metadata": {
  "kernelspec": {
   "display_name": "Python 3",
   "language": "python",
   "name": "python3"
  },
  "language_info": {
   "codemirror_mode": {
    "name": "ipython",
    "version": 2
   },
   "file_extension": ".py",
   "mimetype": "text/x-python",
   "name": "python",
   "nbconvert_exporter": "python",
   "pygments_lexer": "ipython2",
   "version": "2.7.6"
  },
  "pycharm": {
   "stem_cell": {
    "cell_type": "raw",
    "source": [],
    "metadata": {
     "collapsed": false
    }
   }
  }
 },
 "nbformat": 4,
 "nbformat_minor": 0
}