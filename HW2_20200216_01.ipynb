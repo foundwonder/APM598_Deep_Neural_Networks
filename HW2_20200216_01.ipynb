{
 "cells": [
  {
   "cell_type": "markdown",
   "metadata": {
    "collapsed": true,
    "pycharm": {
     "is_executing": false,
     "name": "#%% md\n"
    }
   },
   "source": [
    "# Code for HW2 APM598\n",
    "- Author: Jieshu Wang (jwang490@asu.edu)\n",
    "- Feb 2020\n",
    "- Two-layer linear neural networks and CNN (Convolutional Neural Networks)\n",
    "- need to import HW2_util.py"
   ]
  },
  {
   "cell_type": "markdown",
   "source": [
    "## Ex 1. a) Two-layer NN with four data points"
   ],
   "metadata": {
    "collapsed": false,
    "pycharm": {
     "name": "#%% md\n"
    }
   }
  },
  {
   "cell_type": "code",
   "execution_count": 4,
   "outputs": [
    {
     "name": "stdout",
     "text": [
      "-- epoch 0 --\n",
      "    loss: 0.7173\n",
      "    accuracy: 0.7500\n",
      "-- epoch 60 --\n",
      "    loss: 0.5350\n",
      "    accuracy: 0.7500\n",
      "-- epoch 120 --\n",
      "    loss: 0.3073\n",
      "    accuracy: 1.0000\n",
      "-- epoch 180 --\n",
      "    loss: 0.1151\n",
      "    accuracy: 1.0000\n",
      "-- epoch 240 --\n",
      "    loss: 0.0530\n",
      "    accuracy: 1.0000\n",
      "300 trainings is finished! Spent time 0.7616450786590576 seconds.\n",
      "Final training loss: 0.0306\n",
      "Final training accuracy: 1.0000\n"
     ],
     "output_type": "stream"
    }
   ],
   "source": [
    "# 1. Two-layers Neural Networks\n",
    "# ex1. a) find parameters that satisfies the four data points. \n",
    "from torch.utils.data import TensorDataset\n",
    "import torch\n",
    "from HW2_util import ModuleParams as MyParams, TwoLayerReluClassificationModel as LinearModel, MyNNTrainer as MyTrainer\n",
    "\n",
    "training_data_x_ex1a = [[1,0],\n",
    "                        [-1,0],\n",
    "                        [0,1],\n",
    "                        [0,-1]]\n",
    "training_data_y_ex1a = [0,0,1,1]\n",
    "training_data_ex1a = TensorDataset(torch.as_tensor(training_data_x_ex1a, dtype=float),\n",
    "                              torch.as_tensor(training_data_y_ex1a, dtype=torch.long))\n",
    "\n",
    "ex1a_params = MyParams(learning_rate=0.01, batch_size=4, optimizer='Adam', \n",
    "                       num_epoch=300, good_parameter_threshold=0.9)\n",
    "\n",
    "ex1a_model = MyTrainer(LinearModel, ex1a_params, training_data_ex1a)\n",
    "ex1a_df = ex1a_model.result"
   ],
   "metadata": {
    "collapsed": false,
    "pycharm": {
     "name": "#%%\n",
     "is_executing": false
    }
   }
  },
  {
   "cell_type": "markdown",
   "source": [
    "## Ex 1. a) continue:\n",
    "- Plot the loss and accuracy\n",
    "- Print the good parameters that perform at least 90% accurate"
   ],
   "metadata": {
    "collapsed": false,
    "pycharm": {
     "name": "#%% md\n"
    }
   }
  },
  {
   "cell_type": "code",
   "execution_count": 5,
   "outputs": [
    {
     "data": {
      "text/plain": "<Figure size 432x288 with 1 Axes>",
      "image/png": "[encoded data removed]"
     },
     "metadata": {
      "needs_background": "light"
     },
     "output_type": "display_data"
    },
    {
     "name": "stdout",
     "text": [
      "\n",
      " The parameters that perform with (at least) 90.0% accuracy are:\n",
      "\n",
      "-- epoch 114.0: (accuracy, loss): (1.0000, 0.3366)\n",
      "    _model.0.weight\n",
      "    Parameter containing:\n",
      "tensor([[-6.3965e-04,  3.1640e+00],\n",
      "        [ 1.2890e-04,  1.6093e+00]], requires_grad=True)\n",
      "    _model.0.bias\n",
      "    Parameter containing:\n",
      "tensor([3.8592e-05, 1.6075e+00], requires_grad=True)\n",
      "    _model.2.weight\n",
      "    Parameter containing:\n",
      "tensor([[-2.2489,  2.1716],\n",
      "        [ 2.3645, -1.8699]], requires_grad=True)\n",
      "    _model.2.bias\n",
      "    Parameter containing:\n",
      "tensor([-1.7466,  0.9981], requires_grad=True)\n",
      "\n",
      "-- epoch 115.0: (accuracy, loss): (1.0000, 0.3315)\n",
      "    _model.0.weight\n",
      "    Parameter containing:\n",
      "tensor([[-6.3965e-04,  3.1640e+00],\n",
      "        [ 1.2890e-04,  1.6093e+00]], requires_grad=True)\n",
      "    _model.0.bias\n",
      "    Parameter containing:\n",
      "tensor([3.8592e-05, 1.6075e+00], requires_grad=True)\n",
      "    _model.2.weight\n",
      "    Parameter containing:\n",
      "tensor([[-2.2489,  2.1716],\n",
      "        [ 2.3645, -1.8699]], requires_grad=True)\n",
      "    _model.2.bias\n",
      "    Parameter containing:\n",
      "tensor([-1.7466,  0.9981], requires_grad=True)\n",
      "\n",
      "-- epoch 116.0: (accuracy, loss): (1.0000, 0.3261)\n",
      "    _model.0.weight\n",
      "    Parameter containing:\n",
      "tensor([[-6.3965e-04,  3.1640e+00],\n",
      "        [ 1.2890e-04,  1.6093e+00]], requires_grad=True)\n",
      "    _model.0.bias\n",
      "    Parameter containing:\n",
      "tensor([3.8592e-05, 1.6075e+00], requires_grad=True)\n",
      "    _model.2.weight\n",
      "    Parameter containing:\n",
      "tensor([[-2.2489,  2.1716],\n",
      "        [ 2.3645, -1.8699]], requires_grad=True)\n",
      "    _model.2.bias\n",
      "    Parameter containing:\n",
      "tensor([-1.7466,  0.9981], requires_grad=True)\n",
      "\n",
      "-- epoch 117.0: (accuracy, loss): (1.0000, 0.3221)\n",
      "    _model.0.weight\n",
      "    Parameter containing:\n",
      "tensor([[-6.3965e-04,  3.1640e+00],\n",
      "        [ 1.2890e-04,  1.6093e+00]], requires_grad=True)\n",
      "    _model.0.bias\n",
      "    Parameter containing:\n",
      "tensor([3.8592e-05, 1.6075e+00], requires_grad=True)\n",
      "    _model.2.weight\n",
      "    Parameter containing:\n",
      "tensor([[-2.2489,  2.1716],\n",
      "        [ 2.3645, -1.8699]], requires_grad=True)\n",
      "    _model.2.bias\n",
      "    Parameter containing:\n",
      "tensor([-1.7466,  0.9981], requires_grad=True)\n",
      "\n",
      "-- epoch 118.0: (accuracy, loss): (1.0000, 0.3178)\n",
      "    _model.0.weight\n",
      "    Parameter containing:\n",
      "tensor([[-6.3965e-04,  3.1640e+00],\n",
      "        [ 1.2890e-04,  1.6093e+00]], requires_grad=True)\n",
      "    _model.0.bias\n",
      "    Parameter containing:\n",
      "tensor([3.8592e-05, 1.6075e+00], requires_grad=True)\n",
      "    _model.2.weight\n",
      "    Parameter containing:\n",
      "tensor([[-2.2489,  2.1716],\n",
      "        [ 2.3645, -1.8699]], requires_grad=True)\n",
      "    _model.2.bias\n",
      "    Parameter containing:\n",
      "tensor([-1.7466,  0.9981], requires_grad=True)\n"
     ],
     "output_type": "stream"
    }
   ],
   "source": [
    "# ex1. a) continue\n",
    "# plot the loss and accuracy \n",
    "from HW2_util import plot_loss_accuracy, print_good_parameters\n",
    "\n",
    "plot_loss_accuracy(ex1a_df, include_test=False)\n",
    "print_good_parameters(ex1a_df, ex1a_params)"
   ],
   "metadata": {
    "collapsed": false,
    "pycharm": {
     "name": "#%%\n",
     "is_executing": false
    }
   }
  },
  {
   "cell_type": "markdown",
   "source": [
    "## Ex 1. b) Two-layer NN with many data points"
   ],
   "metadata": {
    "collapsed": false,
    "pycharm": {
     "name": "#%% md\n"
    }
   }
  },
  {
   "cell_type": "code",
   "execution_count": 8,
   "outputs": [
    {
     "name": "stdout",
     "text": [
      "-- epoch 0 --\n",
      "    loss (train, test): 0.7417, 0.6758\n",
      "    accuracy (train, test): 0.4938, 0.5250\n",
      "-- epoch 10 --\n",
      "    loss (train, test): 0.4831, 0.4543\n",
      "    accuracy (train, test): 0.6875, 0.7500\n",
      "-- epoch 20 --\n",
      "    loss (train, test): 0.3196, 0.2849\n",
      "    accuracy (train, test): 0.9062, 0.9250\n",
      "-- epoch 30 --\n",
      "    loss (train, test): 0.2661, 0.2251\n",
      "    accuracy (train, test): 0.9187, 0.9250\n",
      "-- epoch 40 --\n",
      "    loss (train, test): 0.2390, 0.1919\n",
      "    accuracy (train, test): 0.9125, 0.9250\n",
      "50 trainings is finished! Spent time 0.7130460739135742 seconds.\n",
      "Final loss (train, test): 0.2271, 0.1994\n",
      "Final accuracy (train, test): 0.9000, 0.9250\n"
     ],
     "output_type": "stream"
    }
   ],
   "source": [
    "# ex1. b) provide accuracy of the two-layer nn for the dataset\n",
    "\n",
    "import pandas as pd\n",
    "import numpy as np\n",
    "import torch\n",
    "from sklearn.model_selection import train_test_split\n",
    "from torch.utils.data import TensorDataset\n",
    "\n",
    "training_df_ex1b = pd.read_csv('./data/data_HW2_ex1.csv')\n",
    "X = np.column_stack((training_df_ex1b['x1'].values, training_df_ex1b['x2'].values))\n",
    "y = training_df_ex1b['class'].values - 1\n",
    "\n",
    "x_train, x_test, y_train, y_test = train_test_split(X, y, test_size=0.2, random_state=42)\n",
    "training_set = TensorDataset(torch.as_tensor(x_train, dtype=float), torch.as_tensor(y_train, dtype=torch.long))\n",
    "test_set = TensorDataset(torch.as_tensor(x_test, dtype=float), torch.as_tensor(y_test, dtype=torch.long))\n",
    "\n",
    "ex1b_params = MyParams(learning_rate=0.01, batch_size=10, optimizer='Adam', num_epoch=50, good_parameter_threshold=0.9)\n",
    "ex1b_trainer = MyTrainer(LinearModel, ex1b_params, training_set, test_set)\n",
    "ex1b_df = ex1b_trainer.result"
   ],
   "metadata": {
    "collapsed": false,
    "pycharm": {
     "name": "#%%\n",
     "is_executing": false
    }
   }
  },
  {
   "cell_type": "markdown",
   "source": [
    "## Ex 1. b) continue:\n",
    "- Plot the loss and accuracy\n",
    "- Print the good parameters that perform at least 90% accurate"
   ],
   "metadata": {
    "collapsed": false,
    "pycharm": {
     "name": "#%% md\n"
    }
   }
  },
  {
   "cell_type": "code",
   "execution_count": 9,
   "outputs": [
    {
     "data": {
      "text/plain": "<Figure size 432x288 with 1 Axes>",
      "image/png": "[encoded data removed]"
     },
     "metadata": {
      "needs_background": "light"
     },
     "output_type": "display_data"
    },
    {
     "name": "stdout",
     "text": [
      "\n",
      " The parameters that perform with (at least) 90.0% accuracy are:\n",
      "\n",
      "-- epoch 18.0: (accuracy, loss): (0.9062, 0.3435)\n",
      "    _model.0.weight\n",
      "    Parameter containing:\n",
      "tensor([[-0.1749,  1.5354],\n",
      "        [-0.2841,  2.4099]], requires_grad=True)\n",
      "    _model.0.bias\n",
      "    Parameter containing:\n",
      "tensor([ 1.6386, -0.1143], requires_grad=True)\n",
      "    _model.2.weight\n",
      "    Parameter containing:\n",
      "tensor([[ 1.8576, -3.0312],\n",
      "        [-1.9714,  2.2479]], requires_grad=True)\n",
      "    _model.2.bias\n",
      "    Parameter containing:\n",
      "tensor([-1.3847,  0.9436], requires_grad=True)\n",
      "\n",
      "-- epoch 19.0: (accuracy, loss): (0.9125, 0.3323)\n",
      "    _model.0.weight\n",
      "    Parameter containing:\n",
      "tensor([[-0.1749,  1.5354],\n",
      "        [-0.2841,  2.4099]], requires_grad=True)\n",
      "    _model.0.bias\n",
      "    Parameter containing:\n",
      "tensor([ 1.6386, -0.1143], requires_grad=True)\n",
      "    _model.2.weight\n",
      "    Parameter containing:\n",
      "tensor([[ 1.8576, -3.0312],\n",
      "        [-1.9714,  2.2479]], requires_grad=True)\n",
      "    _model.2.bias\n",
      "    Parameter containing:\n",
      "tensor([-1.3847,  0.9436], requires_grad=True)\n",
      "\n",
      "-- epoch 20.0: (accuracy, loss): (0.9062, 0.3196)\n",
      "    _model.0.weight\n",
      "    Parameter containing:\n",
      "tensor([[-0.1749,  1.5354],\n",
      "        [-0.2841,  2.4099]], requires_grad=True)\n",
      "    _model.0.bias\n",
      "    Parameter containing:\n",
      "tensor([ 1.6386, -0.1143], requires_grad=True)\n",
      "    _model.2.weight\n",
      "    Parameter containing:\n",
      "tensor([[ 1.8576, -3.0312],\n",
      "        [-1.9714,  2.2479]], requires_grad=True)\n",
      "    _model.2.bias\n",
      "    Parameter containing:\n",
      "tensor([-1.3847,  0.9436], requires_grad=True)\n",
      "\n",
      "-- epoch 21.0: (accuracy, loss): (0.9187, 0.3114)\n",
      "    _model.0.weight\n",
      "    Parameter containing:\n",
      "tensor([[-0.1749,  1.5354],\n",
      "        [-0.2841,  2.4099]], requires_grad=True)\n",
      "    _model.0.bias\n",
      "    Parameter containing:\n",
      "tensor([ 1.6386, -0.1143], requires_grad=True)\n",
      "    _model.2.weight\n",
      "    Parameter containing:\n",
      "tensor([[ 1.8576, -3.0312],\n",
      "        [-1.9714,  2.2479]], requires_grad=True)\n",
      "    _model.2.bias\n",
      "    Parameter containing:\n",
      "tensor([-1.3847,  0.9436], requires_grad=True)\n",
      "\n",
      "-- epoch 22.0: (accuracy, loss): (0.9250, 0.3004)\n",
      "    _model.0.weight\n",
      "    Parameter containing:\n",
      "tensor([[-0.1749,  1.5354],\n",
      "        [-0.2841,  2.4099]], requires_grad=True)\n",
      "    _model.0.bias\n",
      "    Parameter containing:\n",
      "tensor([ 1.6386, -0.1143], requires_grad=True)\n",
      "    _model.2.weight\n",
      "    Parameter containing:\n",
      "tensor([[ 1.8576, -3.0312],\n",
      "        [-1.9714,  2.2479]], requires_grad=True)\n",
      "    _model.2.bias\n",
      "    Parameter containing:\n",
      "tensor([-1.3847,  0.9436], requires_grad=True)\n"
     ],
     "output_type": "stream"
    }
   ],
   "source": [
    "# ex1. b) continue, plot and print the results\n",
    "\n",
    "plot_loss_accuracy(ex1b_df, include_test=True)\n",
    "print_good_parameters(ex1b_df, ex1b_params)"
   ],
   "metadata": {
    "collapsed": false,
    "pycharm": {
     "name": "#%%\n",
     "is_executing": false
    }
   }
  },
  {
   "cell_type": "markdown",
   "source": [
    "## Ex 2. N.N. Approximate functions\n",
    "### Ex 2. c) write a program that returns a two layer n.n."
   ],
   "metadata": {
    "collapsed": false,
    "pycharm": {
     "name": "#%% md\n"
    }
   }
  },
  {
   "cell_type": "code",
   "execution_count": 10,
   "outputs": [],
   "source": [
    "# ex2c\n",
    "from dataclasses import dataclass\n",
    "\n",
    "# generate random data points\n",
    "number_data = 30  # number of points\n",
    "y_start, y_stop = 0.0, 5.0\n",
    "x_data_2c = np.sort(np.random.rand(number_data))\n",
    "x_data_2c_tensor = torch.as_tensor(x_data_2c, dtype=float)\n",
    "y_data_2c = (y_stop-y_start)*np.random.rand(number_data) + y_start\n",
    "y_data_2c_tensor = torch.as_tensor(y_data_2c)\n",
    "y_data_2c_tensor = y_data_2c_tensor.float().view(number_data,1)\n",
    "training_data_ex2c = TensorDataset(x_data_2c_tensor, y_data_2c_tensor)\n",
    "\n",
    "def find_params(x, y):\n",
    "    w1 = [1.0 for i in x]\n",
    "    b1 = [-i for i in x]\n",
    "    b2 = y[0]\n",
    "    w1_mat, b1_mat = np.mat(w1), np.mat(b1).T\n",
    "    b1_mat_repeat = np.repeat(b1_mat, len(x), axis=1)\n",
    "    x_mat, y_mat = np.mat(x), np.mat(y)\n",
    "    z_mat = w1_mat.T@x_mat\n",
    "    z_mat += b1_mat_repeat\n",
    "    z_mat_relu = np.mat(np.where(z_mat<0, 0, z_mat)).T\n",
    "    y_b = (y_mat-b2).T\n",
    "    w2_mat = np.linalg.pinv(z_mat_relu)@y_b\n",
    "    w2 = np.asarray(w2_mat)\n",
    "    return w1, b1, w2, b2\n",
    "\n",
    "w1, b1, w2, b2 = find_params(x_data_2c, y_data_2c)\n"
   ],
   "metadata": {
    "collapsed": false,
    "pycharm": {
     "name": "#%%\n",
     "is_executing": false
    }
   }
  },
  {
   "cell_type": "markdown",
   "source": [
    "### Ex2. c) test how well the parameters I just found approximate the data points. "
   ],
   "metadata": {
    "collapsed": false,
    "pycharm": {
     "name": "#%% md\n"
    }
   }
  },
  {
   "cell_type": "code",
   "execution_count": 11,
   "outputs": [
    {
     "name": "stdout",
     "text": [
      "The errors of each data points are:\n",
      "0.0000\n",
      "0.0000\n",
      "0.0000\n",
      "0.0000\n",
      "0.0000\n",
      "0.0000\n",
      "0.0000\n",
      "0.0000\n",
      "0.0000\n",
      "0.0000\n",
      "-0.0000\n",
      "-0.0000\n",
      "-0.0000\n",
      "-0.0000\n",
      "-0.0000\n",
      "-0.0000\n",
      "-0.0000\n",
      "-0.0000\n",
      "-0.0000\n",
      "-0.0000\n",
      "-0.0000\n",
      "-0.0000\n",
      "-0.0000\n",
      "-0.0000\n",
      "-0.0000\n",
      "-0.0000\n",
      "-0.0000\n",
      "-0.0000\n",
      "-0.0000\n",
      "-0.0000\n"
     ],
     "output_type": "stream"
    }
   ],
   "source": [
    "print('The errors of each data points are:')\n",
    "for i in range(number_data):\n",
    "    z = [max(0, x_data_2c[i]+b1[j]) for j in range(number_data)]\n",
    "    score = sum([z[j]*w2[j] for j in range(number_data)]) + b2\n",
    "    error = float(score - y_data_2c[i])\n",
    "    print(f'{error:.4f}')"
   ],
   "metadata": {
    "collapsed": false,
    "pycharm": {
     "name": "#%%\n",
     "is_executing": false
    }
   }
  },
  {
   "cell_type": "markdown",
   "source": [
    "## Ex 3. CNN with Fashion-MNIST dataset\n",
    "- the best accuracy on test set is ___0.8916___"
   ],
   "metadata": {
    "collapsed": false,
    "pycharm": {
     "name": "#%% md\n"
    }
   }
  },
  {
   "cell_type": "code",
   "execution_count": 13,
   "outputs": [
    {
     "name": "stdout",
     "text": [
      "-- epoch 0 --\n",
      "    loss (train, test): 0.5893, 0.4481\n",
      "    accuracy (train, test): 0.7826, 0.8392\n",
      "-- epoch 2 --\n",
      "    loss (train, test): 0.3955, 0.3905\n",
      "    accuracy (train, test): 0.8563, 0.8592\n",
      "-- epoch 4 --\n",
      "    loss (train, test): 0.3584, 0.3524\n",
      "    accuracy (train, test): 0.8688, 0.8753\n",
      "-- epoch 6 --\n",
      "    loss (train, test): 0.3412, 0.3496\n",
      "    accuracy (train, test): 0.8770, 0.8748\n",
      "-- epoch 8 --\n",
      "    loss (train, test): 0.3292, 0.3396\n",
      "    accuracy (train, test): 0.8790, 0.8790\n",
      "10 trainings is finished! Spent time 167.6247329711914 seconds.\n",
      "Final loss (train, test): 0.3257, 0.3272\n",
      "Final accuracy (train, test): 0.8810, 0.8861\n"
     ],
     "output_type": "stream"
    }
   ],
   "source": [
    "# ex3. CNN\n",
    "from torchvision import datasets\n",
    "import torchvision.transforms as transforms\n",
    "from HW2_util import CNNNet as MyCNN\n",
    "\n",
    "MNIST_training_set = datasets.FashionMNIST('./data/HW2/data_sets', train=True, download=True, transform=transforms.ToTensor())\n",
    "MNIST_test_set = datasets.FashionMNIST('./data/HW2/data_sets', train=False, download=True, transform=transforms.ToTensor())\n",
    "\n",
    "my_parameters = MyParams(drop_out_rate=0.2, num_epoch=10, learning_rate=0.001)\n",
    "cnn_trainer = MyTrainer(MyCNN, my_parameters, MNIST_training_set, MNIST_test_set)\n",
    "cnn_df = cnn_trainer.result"
   ],
   "metadata": {
    "collapsed": false,
    "pycharm": {
     "name": "#%%\n",
     "is_executing": false
    }
   }
  },
  {
   "cell_type": "markdown",
   "source": [
    "## Ex 3. continue:\n",
    "- Plot the loss and accuracy"
   ],
   "metadata": {
    "collapsed": false,
    "pycharm": {
     "name": "#%% md\n",
     "is_executing": false
    }
   }
  },
  {
   "cell_type": "code",
   "execution_count": 14,
   "outputs": [
    {
     "data": {
      "text/plain": "<Figure size 432x288 with 1 Axes>",
      "image/png": "[encoded data removed]"
     },
     "metadata": {
      "needs_background": "light"
     },
     "output_type": "display_data"
    }
   ],
   "source": [
    "# ex3. continue, plot the results\n",
    "plot_loss_accuracy(cnn_df, marker='o', include_test=True)\n",
    "# print(cnn_trainer.model)"
   ],
   "metadata": {
    "collapsed": false,
    "pycharm": {
     "name": "#%%\n",
     "is_executing": false
    }
   }
  }
 ],
 "metadata": {
  "kernelspec": {
   "display_name": "Python 3",
   "language": "python",
   "name": "python3"
  },
  "language_info": {
   "codemirror_mode": {
    "name": "ipython",
    "version": 2
   },
   "file_extension": ".py",
   "mimetype": "text/x-python",
   "name": "python",
   "nbconvert_exporter": "python",
   "pygments_lexer": "ipython2",
   "version": "2.7.6"
  },
  "pycharm": {
   "stem_cell": {
    "cell_type": "raw",
    "source": [],
    "metadata": {
     "collapsed": false
    }
   }
  }
 },
 "nbformat": 4,
 "nbformat_minor": 0
}