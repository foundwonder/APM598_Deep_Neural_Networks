{
 "cells": [
  {
   "cell_type": "code",
   "execution_count": 45,
   "metadata": {
    "collapsed": true,
    "pycharm": {
     "is_executing": false
    }
   },
   "outputs": [
    {
     "name": "stdout",
     "text": [
      "\n",
      "524 trainings, model accuracy is 1.0\n",
      "('0.weight', Parameter containing:\n",
      "tensor([[-0.5508,  0.0877],\n",
      "        [-1.0719,  0.0030]], requires_grad=True))\n",
      "('0.bias', Parameter containing:\n",
      "tensor([ 0.5459, -0.0033], requires_grad=True))\n",
      "('2.weight', Parameter containing:\n",
      "tensor([[-0.4938,  0.9259],\n",
      "        [ 0.4283, -0.7880]], requires_grad=True))\n",
      "('2.bias', Parameter containing:\n",
      "tensor([0.4955, 0.4940], requires_grad=True))\n",
      "The loss is 0.09703904390335083\n",
      "\n",
      "525 trainings, model accuracy is 1.0\n",
      "('0.weight', Parameter containing:\n",
      "tensor([[-0.5498,  0.0868],\n",
      "        [-1.0738,  0.0030]], requires_grad=True))\n",
      "('0.bias', Parameter containing:\n",
      "tensor([ 0.5506, -0.0015], requires_grad=True))\n",
      "('2.weight', Parameter containing:\n",
      "tensor([[-0.4960,  0.9266],\n",
      "        [ 0.4302, -0.7897]], requires_grad=True))\n",
      "('2.bias', Parameter containing:\n",
      "tensor([0.4969, 0.4931], requires_grad=True))\n",
      "The loss is 0.09666939079761505\n",
      "\n",
      "526 trainings, model accuracy is 1.0\n",
      "('0.weight', Parameter containing:\n",
      "tensor([[-0.5546,  0.0859],\n",
      "        [-1.0756, -0.0014]], requires_grad=True))\n",
      "('0.bias', Parameter containing:\n",
      "tensor([ 0.5496, -0.0041], requires_grad=True))\n",
      "('2.weight', Parameter containing:\n",
      "tensor([[-0.4983,  0.9274],\n",
      "        [ 0.4322, -0.7913]], requires_grad=True))\n",
      "('2.bias', Parameter containing:\n",
      "tensor([0.4983, 0.4922], requires_grad=True))\n",
      "The loss is 0.09599436819553375\n",
      "\n",
      "527 trainings, model accuracy is 1.0\n",
      "('0.weight', Parameter containing:\n",
      "tensor([[-0.5535,  0.0849],\n",
      "        [-1.0775, -0.0014]], requires_grad=True))\n",
      "('0.bias', Parameter containing:\n",
      "tensor([ 0.5543, -0.0022], requires_grad=True))\n",
      "('2.weight', Parameter containing:\n",
      "tensor([[-0.5005,  0.9282],\n",
      "        [ 0.4342, -0.7929]], requires_grad=True))\n",
      "('2.bias', Parameter containing:\n",
      "tensor([0.4997, 0.4913], requires_grad=True))\n",
      "The loss is 0.09567368030548096\n"
     ],
     "output_type": "stream"
    }
   ],
   "source": [
    "# ex1 a)\n",
    "\n",
    "from HW2_util import TwoLayerLinearClassificationNN as TwoLayerNN\n",
    "\n",
    "training_data_x_ex1a = [[1,0],\n",
    "                        [-1,0],\n",
    "                        [0,1],\n",
    "                        [0,-1]]\n",
    "training_data_y_ex1a = [1,1,2,2]\n",
    "\n",
    "ex1a_model = TwoLayerNN(training_data_x_ex1a, training_data_y_ex1a)\n",
    "\n",
    "# have to run multiple times\n",
    "ex1a_model.find_good_parameters(5000, num_of_good_models=4)\n",
    "# ex1a_model.plot_loss_accuracy(num_epoch=5000, learning_rate=0.05)"
   ]
  },
  {
   "cell_type": "code",
   "execution_count": 7,
   "outputs": [
    {
     "name": "stdout",
     "text": [
      "\n",
      "339 trainings, model accuracy is 0.905\n",
      "('0.weight', Parameter containing:\n",
      "tensor([[-0.0434,  0.7717],\n",
      "        [ 0.1653, -0.4419]], requires_grad=True))\n",
      "('0.bias', Parameter containing:\n",
      "tensor([-0.1512,  0.2146], requires_grad=True))\n",
      "('2.weight', Parameter containing:\n",
      "tensor([[-0.3553, -0.2813],\n",
      "        [ 0.7624,  0.3256]], requires_grad=True))\n",
      "('2.bias', Parameter containing:\n",
      "tensor([0.6327, 0.2790], requires_grad=True))\n",
      "The loss is 0.17311884462833405\n",
      "\n",
      "340 trainings, model accuracy is 0.905\n",
      "('0.weight', Parameter containing:\n",
      "tensor([[-0.0435,  0.7733],\n",
      "        [ 0.1645, -0.4456]], requires_grad=True))\n",
      "('0.bias', Parameter containing:\n",
      "tensor([-0.1514,  0.2132], requires_grad=True))\n",
      "('2.weight', Parameter containing:\n",
      "tensor([[-0.3576, -0.2828],\n",
      "        [ 0.7630,  0.3279]], requires_grad=True))\n",
      "('2.bias', Parameter containing:\n",
      "tensor([0.6336, 0.2780], requires_grad=True))\n",
      "The loss is 0.17244598269462585\n",
      "\n",
      "341 trainings, model accuracy is 0.91\n",
      "('0.weight', Parameter containing:\n",
      "tensor([[-0.0436,  0.7748],\n",
      "        [ 0.1637, -0.4492]], requires_grad=True))\n",
      "('0.bias', Parameter containing:\n",
      "tensor([-0.1516,  0.2117], requires_grad=True))\n",
      "('2.weight', Parameter containing:\n",
      "tensor([[-0.3599, -0.2843],\n",
      "        [ 0.7635,  0.3302]], requires_grad=True))\n",
      "('2.bias', Parameter containing:\n",
      "tensor([0.6345, 0.2771], requires_grad=True))\n",
      "The loss is 0.17177553474903107\n",
      "\n",
      "342 trainings, model accuracy is 0.91\n",
      "('0.weight', Parameter containing:\n",
      "tensor([[-0.0437,  0.7763],\n",
      "        [ 0.1628, -0.4530]], requires_grad=True))\n",
      "('0.bias', Parameter containing:\n",
      "tensor([-0.1518,  0.2100], requires_grad=True))\n",
      "('2.weight', Parameter containing:\n",
      "tensor([[-0.3623, -0.2858],\n",
      "        [ 0.7640,  0.3326]], requires_grad=True))\n",
      "('2.bias', Parameter containing:\n",
      "tensor([0.6353, 0.2761], requires_grad=True))\n",
      "The loss is 0.1710984855890274\n"
     ],
     "output_type": "stream"
    }
   ],
   "source": [
    "# import pandas as pd\n",
    "# import numpy as np\n",
    "# # ex1 b)\n",
    "# \n",
    "# df = pd.read_csv('./data/data_HW2_ex1.csv')\n",
    "# X = np.column_stack((df['x1'].values, df['x2'].values))\n",
    "# y = df['class'].values\n",
    "# \n",
    "# ex1b_model = TwoLayerNN(X, y)\n",
    "# # ex1b_model.train_model_and_print(500)\n",
    "# # print(ex1b_model.measure_accuracy_in_training_data())\n",
    "# ex1b_model.find_good_parameters(500, num_of_good_models=4)"
   ],
   "metadata": {
    "collapsed": false,
    "pycharm": {
     "name": "#%%\n",
     "is_executing": false
    }
   }
  },
  {
   "cell_type": "code",
   "execution_count": 48,
   "outputs": [
    {
     "data": {
      "text/plain": "<Figure size 432x288 with 1 Axes>",
      "image/png": "[encoded data removed]"
     },
     "metadata": {
      "needs_background": "light"
     },
     "output_type": "display_data"
    },
    {
     "data": {
      "text/plain": "<Figure size 432x288 with 1 Axes>",
      "image/png": "[encoded data removed]"
     },
     "metadata": {
      "needs_background": "light"
     },
     "output_type": "display_data"
    }
   ],
   "source": [
    "import pandas as pd\n",
    "import numpy as np\n",
    "from HW2_util import TwoLayerLinearClassificationNN as TwoLayerNN\n",
    "\n",
    "df = pd.read_csv('./data/data_HW2_ex1.csv')\n",
    "X = np.column_stack((df['x1'].values, df['x2'].values))\n",
    "y = df['class'].values\n",
    "\n",
    "ex1b_model = TwoLayerNN(X, y)\n",
    "ex1b_model.plot_loss_accuracy(num_epoch=500, learning_rate=0.05)"
   ],
   "metadata": {
    "collapsed": false,
    "pycharm": {
     "name": "#%%\n",
     "is_executing": false
    }
   }
  }
 ],
 "metadata": {
  "kernelspec": {
   "display_name": "Python 3",
   "language": "python",
   "name": "python3"
  },
  "language_info": {
   "codemirror_mode": {
    "name": "ipython",
    "version": 2
   },
   "file_extension": ".py",
   "mimetype": "text/x-python",
   "name": "python",
   "nbconvert_exporter": "python",
   "pygments_lexer": "ipython2",
   "version": "2.7.6"
  },
  "pycharm": {
   "stem_cell": {
    "cell_type": "raw",
    "source": [],
    "metadata": {
     "collapsed": false
    }
   }
  }
 },
 "nbformat": 4,
 "nbformat_minor": 0
}