{
 "cells": [
  {
   "cell_type": "markdown",
   "metadata": {
    "collapsed": true,
    "pycharm": {
     "name": "#%% md\n"
    }
   },
   "source": [
    "# APM598: Homework 3 (03/26)\n",
    "## author: Jieshu Wang (jwang490@asu.edu)"
   ]
  },
  {
   "cell_type": "markdown",
   "source": [
    "# 1. n-gram models\n",
    "## Ex 1.\n",
    "### Ex 1. a) \n",
    "- Load and tokenize the text attached ’Plato_Republic.txt’.\n",
    "- Put all the words in lower case to regroup words like ’The’ and ’the’.\n",
    "- Compute the total number of words N in the text and the number of unique words (size of the vocabulary).\n",
    "    - size of vocabulary is ___7544___."
   ],
   "metadata": {
    "collapsed": false,
    "pycharm": {
     "name": "#%% md\n"
    }
   }
  },
  {
   "cell_type": "code",
   "execution_count": 1,
   "outputs": [
    {
     "name": "stdout",
     "text": [
      "the republic.     persons of the dialogue.  \n"
     ],
     "output_type": "stream"
    }
   ],
   "source": [
    "with open('./data/Plato_Republic.txt', mode='r', encoding='utf-8-sig') as my_file:\n",
    "    # encoding='utf-8-sig' is to remove '\\ufeff' in the text.\n",
    "    my_text = my_file.read().replace('\\n',' ')\n",
    "    my_text = my_text.lower()\n",
    "\n",
    "print(my_text[0:44])"
   ],
   "metadata": {
    "collapsed": false,
    "pycharm": {
     "name": "#%%\n",
     "is_executing": false
    }
   }
  },
  {
   "cell_type": "code",
   "execution_count": 2,
   "outputs": [
    {
     "name": "stdout",
     "text": [
      "['the', 'republic', '.', 'persons', 'of', 'the', 'dialogue', '.', 'socrates', ',']\n",
      "-- length of texts (words) :  136312\n"
     ],
     "output_type": "stream"
    }
   ],
   "source": [
    "# Tokenize words\n",
    "import nltk\n",
    "nltk.data.path.append(\"/Users/Jieshu/PycharmProjects/APM598_Deep_Neural_Networks/APM598_notebook4/nltk_data\")\n",
    "\n",
    "my_text_tokenized = nltk.word_tokenize(my_text)\n",
    "print(my_text_tokenized[0:10])\n",
    "print(\"-- length of texts (words) : \",len(my_text_tokenized))"
   ],
   "metadata": {
    "collapsed": false,
    "pycharm": {
     "name": "#%%\n",
     "is_executing": false
    }
   }
  },
  {
   "cell_type": "markdown",
   "source": [
    "### Ex 1. b) \n",
    "- Build a uni-gram. \n",
    "- Deduce the 5 most common words with at least 8 characters. \n",
    "    - 'certainly', 'knowledge', 'injustice', 'therefore', 'question'"
   ],
   "metadata": {
    "collapsed": false,
    "pycharm": {
     "name": "#%% md\n"
    }
   }
  },
  {
   "cell_type": "code",
   "execution_count": 3,
   "outputs": [
    {
     "name": "stdout",
     "text": [
      "The 5 most frequent words with at least 8 characters are:\n",
      "[('certainly', 235), ('knowledge', 152), ('injustice', 111), ('therefore', 109), ('question', 99)]\n",
      "The number of unique words are 7544\n"
     ],
     "output_type": "stream"
    }
   ],
   "source": [
    "# build a uni-gram\n",
    "my_unigram = nltk.ngrams(my_text_tokenized, 1)\n",
    "freq_dist_uni = nltk.FreqDist(my_unigram)\n",
    "\n",
    "# deduce the 5 most common words with at least 8 characters\n",
    "sorted_freq_dist_uni = freq_dist_uni.most_common()\n",
    "sorted_8_character_words = [(i[0][0], i[1]) for i in sorted_freq_dist_uni if len(i[0][0]) >=8]\n",
    "print(\"The 5 most frequent words with at least 8 characters are:\")\n",
    "print(sorted_8_character_words[0:5])\n",
    "print(f'The number of unique words are {freq_dist_uni.B()}')"
   ],
   "metadata": {
    "collapsed": false,
    "pycharm": {
     "name": "#%%\n",
     "is_executing": false
    }
   }
  },
  {
   "cell_type": "markdown",
   "source": [
    "### Ex 1. c)\n",
    "- Build a bi-gram and define a function that given two words (x1, x2) compute the probability\n",
    ": $\\mathbb{P}(x_{t+1}|x_t) = \\frac{\\#\\{(x_t,x_{t+1})\\}}{\\#\\{(x_t)\\}\\}}$."
   ],
   "metadata": {
    "collapsed": false,
    "pycharm": {
     "name": "#%% md\n"
    }
   }
  },
  {
   "cell_type": "code",
   "execution_count": 4,
   "outputs": [
    {
     "name": "stdout",
     "text": [
      "0.032217308907138344\n"
     ],
     "output_type": "stream"
    }
   ],
   "source": [
    "my_bigram = nltk.ngrams(my_text_tokenized, 2)\n",
    "# define a function to compute the probability\n",
    "def prob_word_pair(x_1: str, x_2: str, text) ->float:\n",
    "    corpus = nltk.word_tokenize(text.lower())\n",
    "    unigram = nltk.ngrams(corpus, 1)\n",
    "    bigram = nltk.ngrams(corpus, 2)\n",
    "    freq_distribution_uni = nltk.FreqDist(unigram)\n",
    "    freq_distribution_bi = nltk.FreqDist(bigram)\n",
    "    n_x_1 = freq_distribution_uni[(x_1.lower(),)]\n",
    "    n_x_1_2 = freq_distribution_bi[(x_1.lower(), x_2.lower())]\n",
    "    prob = n_x_1_2/n_x_1\n",
    "    return prob\n",
    "\n",
    "print(prob_word_pair('I', 'think', my_text))"
   ],
   "metadata": {
    "collapsed": false,
    "pycharm": {
     "name": "#%%\n",
     "is_executing": false
    }
   }
  },
  {
   "cell_type": "markdown",
   "source": [
    "## Ex 1. d) \n",
    "- Deduce the so-called perplexity of the bi-gram model\n",
    "    - 37.89928782828084\n",
    "    "
   ],
   "metadata": {
    "collapsed": false,
    "pycharm": {
     "name": "#%% md\n"
    }
   }
  },
  {
   "cell_type": "code",
   "execution_count": 5,
   "outputs": [
    {
     "name": "stdout",
     "text": [
      "The perplexity of Plato's Republic is: \n",
      "37.89928782828084\n"
     ],
     "output_type": "stream"
    }
   ],
   "source": [
    "def compute_perplexity(text)->float:\n",
    "    corpus = nltk.word_tokenize(text.lower())\n",
    "    corpus_length = len(corpus)\n",
    "    unigram = nltk.ngrams(corpus, 1)\n",
    "    bigram = nltk.ngrams(corpus, 2)\n",
    "    freq_distribution_uni = nltk.FreqDist(unigram)\n",
    "    freq_distribution_bi = nltk.FreqDist(bigram)\n",
    "    product = 1\n",
    "    for i in range(corpus_length-1):\n",
    "        x_1 = corpus[i]\n",
    "        x_2 = corpus[i+1]\n",
    "        n_x_1 = freq_distribution_uni[(x_1.lower(),)]\n",
    "        n_x_1_2 = freq_distribution_bi[(x_1.lower(), x_2.lower())]\n",
    "        prob = n_x_1_2/n_x_1\n",
    "        product *= prob**(-1/(corpus_length-1))\n",
    "    perplexity = product\n",
    "    return  perplexity\n",
    "\n",
    "print(\"The perplexity of Plato's Republic is: \")\n",
    "print(compute_perplexity(my_text))"
   ],
   "metadata": {
    "collapsed": false,
    "pycharm": {
     "name": "#%%\n",
     "is_executing": false
    }
   }
  },
  {
   "cell_type": "markdown",
   "source": [
    "# 2. Recurrent Neural Networks\n",
    "## Ex 2. \n",
    "### Ex 2. a) find the output y1, . . . , y5 and deduce the predicted characters"
   ],
   "metadata": {
    "collapsed": false,
    "pycharm": {
     "name": "#%% md\n"
    }
   }
  },
  {
   "cell_type": "code",
   "execution_count": 1,
   "outputs": [
    {
     "name": "stdout",
     "text": [
      "the output y1, . . . , y5 and deduce the predicted characters\n",
      "--- 0---\n",
      "    input: h\n",
      "    y_1: tensor([[ 1.5232,  1.1424, -0.7616, -0.3808]], grad_fn=<MmBackward>)\n",
      "    output: h\n",
      "--- 1---\n",
      "    input: e\n",
      "    y_2: tensor([[ 0.7087,  0.8257,  0.2340, -0.4713]], grad_fn=<MmBackward>)\n",
      "    output: e\n",
      "--- 2---\n",
      "    input: l\n",
      "    y_3: tensor([[-0.2096,  0.1031,  0.6255, -0.2079]], grad_fn=<MmBackward>)\n",
      "    output: l\n",
      "--- 3---\n",
      "    input: l\n",
      "    y_4: tensor([[-0.8934, -0.4887,  0.8095,  0.0420]], grad_fn=<MmBackward>)\n",
      "    output: l\n",
      "--- 4---\n",
      "    input: o\n",
      "    y_5: tensor([[-1.0946, -0.9446,  0.3000,  0.3973]], grad_fn=<MmBackward>)\n",
      "    output: o\n",
      "Predicted characters are: ['h', 'e', 'l', 'l', 'o']\n"
     ],
     "output_type": "stream"
    }
   ],
   "source": [
    "from HW3_util import ModuleParamsVanillaRNN, VanillaRNN, letter_to_tensor, torch\n",
    "\n",
    "a_ex2a = torch.tensor([[1.0, -1.0, -0.5, 0.5],\n",
    "                       [1.0, 1.0, -0.5, -1]])\n",
    "r_ex2a = torch.tensor([[1.0, 0.0],\n",
    "                      [0.0, 1.0]])\n",
    "b_ex2a = torch.tensor([[1.0, 1.0],\n",
    "                       [0.5, 1.0],\n",
    "                       [-1.0, 0.0],\n",
    "                       [0.0, -0.5]])\n",
    "all_letters_ex2a = 'helo'\n",
    "input_letter_list = ['h', 'e', 'l', 'l', 'o']\n",
    "\n",
    "class VanillaRNNEx2a(VanillaRNN):\n",
    "    def __init__(self, module_params: ModuleParamsVanillaRNN):\n",
    "        super(VanillaRNNEx2a, self).__init__(module_params)\n",
    "        with torch.no_grad():\n",
    "            self._A.weight.data = a_ex2a\n",
    "            self._R.weight.data = r_ex2a\n",
    "            self._B.weight.data = b_ex2a\n",
    "\n",
    "def predict_characters_ex2a(input_list: list, all_letters: str):\n",
    "    vanilla_rnn_params = ModuleParamsVanillaRNN(all_letters_base=all_letters)\n",
    "    my_vanilla_rnn_ex2a = VanillaRNNEx2a(vanilla_rnn_params)\n",
    "    h = my_vanilla_rnn_ex2a.init_hidden()\n",
    "    predicted_charaters_list = []\n",
    "    for i in range(len(input_list)):\n",
    "        input = input_list[i]\n",
    "        print(f'--- {i}---')\n",
    "        x = letter_to_tensor(input, all_letters)\n",
    "        y, h = my_vanilla_rnn_ex2a(x, h)\n",
    "        predicted_character = all_letters[y.argmax()]\n",
    "        print(f\"    input: {input}\")\n",
    "        print(f'    y_{i+1}: {y}')\n",
    "        print(f'    output: {predicted_character}')\n",
    "        predicted_charaters_list.append(predicted_character)\n",
    "    print(f'Predicted characters are: {predicted_charaters_list}')\n",
    "\n",
    "print('the output y1, . . . , y5 and deduce the predicted characters')\n",
    "predict_characters_ex2a(input_letter_list, all_letters_ex2a)"
   ],
   "metadata": {
    "collapsed": false,
    "pycharm": {
     "name": "#%%\n",
     "is_executing": false
    }
   }
  },
  {
   "cell_type": "markdown",
   "source": [
    "### Ex 2. b) Find matrices A, R, B such that the predicted characters are ”olleh”.\n",
    "- A.weight: [[-1.6251, -0.6183,  0.7184,  1.0523], [-1.5250, -0.3831,  1.4286, -0.9764]]\n",
    "- R.weight: [[ 2.6304,  1.8039], [-1.3376, -0.0809]]\n",
    "- B.weight: [[ 2.6276, -1.8918], [ 2.9543,  2.2045], [-2.1664,  2.6917], [-1.7653, -2.3543]]"
   ],
   "metadata": {
    "collapsed": false,
    "pycharm": {
     "name": "#%% md\n"
    }
   }
  },
  {
   "cell_type": "code",
   "execution_count": 2,
   "outputs": [
    {
     "name": "stdout",
     "text": [
      "  input = hello\n",
      "  output = elell\n",
      "loss at step 0: 1.3737117767333984\n",
      "  input = hello\n",
      "  output = olllh\n",
      "loss at step 60: 1.2573498725891112\n",
      "  input = hello\n",
      "  output = olllh\n",
      "loss at step 120: 1.0862698554992676\n",
      "  input = hello\n",
      "  output = olllh\n",
      "loss at step 180: 0.9848179817199707\n",
      "  input = hello\n",
      "  output = olllh\n",
      "loss at step 240: 0.9285406112670899\n",
      "  input = hello\n",
      "  output = olleh\n",
      "loss at step 300: 0.8724645614624024\n",
      "  input = hello\n",
      "  output = olleh\n",
      "loss at step 360: 0.8253401756286621\n",
      "  input = hello\n",
      "  output = olleh\n",
      "loss at step 420: 0.8008445739746094\n",
      "  input = hello\n",
      "  output = olleh\n",
      "loss at step 480: 0.7867999076843262\n",
      "  input = hello\n",
      "  output = olleh\n",
      "loss at step 540: 0.7776077270507813\n",
      "<generator object Module.parameters at 0x10511ad50>\n"
     ],
     "output_type": "stream"
    }
   ],
   "source": [
    "from HW3_util import VanillaRNNTrainer, VanillaRNN, ModuleParamsVanillaRNN\n",
    "\n",
    "all_letters_ex2b = 'helo'\n",
    "training_x_ex2b = 'hello'\n",
    "training_y_ex2b = 'olleh'\n",
    "module_params_ex2b = ModuleParamsVanillaRNN(all_letters_base=all_letters_ex2b, chunk_size=5,\n",
    "                                            is_print_training=True, n_steps=600, printing_step=60)\n",
    "trainer_ex2b = VanillaRNNTrainer(module_params=module_params_ex2b, module=VanillaRNN,\n",
    "                                 training_x=training_x_ex2b, training_y=training_y_ex2b)\n",
    "print(trainer_ex2b.model.parameters())"
   ],
   "metadata": {
    "collapsed": false,
    "pycharm": {
     "name": "#%%\n",
     "is_executing": false
    }
   }
  },
  {
   "cell_type": "code",
   "execution_count": 3,
   "outputs": [
    {
     "name": "stdout",
     "text": [
      "_A.weight\n",
      "Parameter containing:\n",
      "tensor([[ 1.4536, -0.5005, -0.9105,  1.1894],\n",
      "        [-1.7484, -0.7461,  0.5157,  1.1955]], requires_grad=True)\n",
      "_R.weight\n",
      "Parameter containing:\n",
      "tensor([[ 1.0282,  1.6511],\n",
      "        [-1.5973,  2.2827]], requires_grad=True)\n",
      "_B.weight\n",
      "Parameter containing:\n",
      "tensor([[ 2.5070,  2.3268],\n",
      "        [-1.8582,  2.4097],\n",
      "        [-2.5935, -2.4388],\n",
      "        [ 2.4732, -1.9732]], requires_grad=True)\n"
     ],
     "output_type": "stream"
    }
   ],
   "source": [
    "result_model_parameters = trainer_ex2b.model.named_parameters()\n",
    "for name, params in result_model_parameters:\n",
    "    print(f'{name}')\n",
    "    print(f'{params}')"
   ],
   "metadata": {
    "collapsed": false,
    "pycharm": {
     "name": "#%%\n",
     "is_executing": false
    }
   }
  },
  {
   "cell_type": "markdown",
   "source": [
    "## Ex 3. vanishing/exploding gradient\n",
    "### Ex 3 a) \n",
    "### Ex 3 b) compute and plot the difference"
   ],
   "metadata": {
    "collapsed": false,
    "pycharm": {
     "name": "#%% md\n"
    }
   }
  },
  {
   "cell_type": "code",
   "execution_count": 1,
   "outputs": [
    {
     "name": "stdout",
     "text": [
      "The difference is \n",
      "              perturbation  perturbation_log  y_difference  y_difference_log\n",
      "1.000000e-04  1.000000e-04              -4.0      1.213693          0.084109\n",
      "1.000000e-05  1.000000e-05              -5.0      1.128870          0.052644\n",
      "1.000000e-06  1.000000e-06              -6.0      0.265372         -0.576146\n",
      "1.000000e-07  1.000000e-07              -7.0      0.027112         -1.566843\n",
      "1.000000e-08  1.000000e-08              -8.0      0.002712         -2.566748\n",
      "1.000000e-09  1.000000e-09              -9.0      0.000271         -3.566747\n"
     ],
     "output_type": "stream"
    },
    {
     "data": {
      "text/plain": "<Figure size 640x480 with 1 Axes>"
     },
     "metadata": {},
     "output_type": "display_data"
    }
   ],
   "source": [
    "from HW3_util import ModuleParamsVanillaRNN, VanillaRNN, letter_to_tensor, torch, compute_y_difference\n",
    "import matplotlib.pyplot as plt\n",
    "\n",
    "a_ex3b = torch.tensor([[1.0, 0.0],\n",
    "                       [0.0, 1.0]])\n",
    "r_ex3b = torch.tensor([[0.5, -1.0],\n",
    "                      [-1.0, 0.5]])\n",
    "b_ex3b = torch.tensor([[1.0, 0.0],\n",
    "                       [0.0, 1.0]])\n",
    "perturbation_values_ex3 = [10**(-i) for i in range(4, 10)]\n",
    "all_letters_ex3b = 'ab'\n",
    "\n",
    "class VanillaRNNEx3b(VanillaRNN):\n",
    "    def __init__(self, module_params: ModuleParamsVanillaRNN):\n",
    "        super(VanillaRNNEx3b, self).__init__(module_params)\n",
    "        self._in_out_size = 2\n",
    "        self._hidden_size = 2\n",
    "        with torch.no_grad():\n",
    "            self._A.weight.data = a_ex3b\n",
    "            self._R.weight.data = r_ex3b\n",
    "            self._B.weight.data = b_ex3b\n",
    "\n",
    "module_params_ex3b = ModuleParamsVanillaRNN(all_letters_base=all_letters_ex3b)\n",
    "\n",
    "def pertubating_x_ex3b(perturbation):\n",
    "    return torch.tensor([perturbation, -perturbation])\n",
    "\n",
    "x_1_ex3b = torch.tensor([0.0, 0.0])\n",
    "x_n_ex3b = torch.tensor([0.0, 0.0])\n",
    "h_n_ex3b = torch.tensor([0.0, 0.0])\n",
    "df_ex3b = compute_y_difference(num_times=30, x_1=x_1_ex3b, x_n=x_n_ex3b, h_0=h_n_ex3b,\n",
    "                               perturbating_func=pertubating_x_ex3b, \n",
    "                               perturbation_values=perturbation_values_ex3,\n",
    "                               module=VanillaRNNEx3b, module_params=module_params_ex3b)\n",
    "print(f'The difference is \\n{df_ex3b}')\n",
    "\n",
    "# plot log-log scale\n",
    "plt.figure(1)\n",
    "plt.clf()\n",
    "plt.plot(df_ex3b['perturbation_log'], df_ex3b['y_difference_log'], '-o')\n",
    "plt.grid()\n",
    "plt.xlabel('log of perturbations')\n",
    "plt.ylabel('log of norm of y difference')\n",
    "plt.title(\"Difference of y per perturbation\")\n",
    "plt.show()"
   ],
   "metadata": {
    "collapsed": false,
    "pycharm": {
     "name": "#%%\n",
     "is_executing": false
    }
   }
  },
  {
   "cell_type": "markdown",
   "source": [
    "### Ex 3c) Proceedsimilarlyasb)usingx1 =(2,1)andx1ε =(2+ε,1−ε).\n",
    "Why does the perturbation have a small effect in this case compare to b)?"
   ],
   "metadata": {
    "collapsed": false,
    "pycharm": {
     "name": "#%% md\n"
    }
   }
  },
  {
   "cell_type": "code",
   "execution_count": 2,
   "outputs": [
    {
     "name": "stdout",
     "text": [
      "The difference is \n",
      "              perturbation  perturbation_log  y_difference y_difference_log\n",
      "1.000000e-04  1.000000e-04              -4.0           0.0               -∞\n",
      "1.000000e-05  1.000000e-05              -5.0           0.0               -∞\n",
      "1.000000e-06  1.000000e-06              -6.0           0.0               -∞\n",
      "1.000000e-07  1.000000e-07              -7.0           0.0               -∞\n",
      "1.000000e-08  1.000000e-08              -8.0           0.0               -∞\n",
      "1.000000e-09  1.000000e-09              -9.0           0.0               -∞\n"
     ],
     "output_type": "stream"
    },
    {
     "data": {
      "text/plain": "<Figure size 432x288 with 1 Axes>",
      "image/png": "[encoded data removed]"
     },
     "metadata": {
      "needs_background": "light"
     },
     "output_type": "display_data"
    }
   ],
   "source": [
    "from HW3_util import compute_y_difference, torch\n",
    "\n",
    "def pertubating_x_ex3c(perturbation):\n",
    "    return torch.tensor([2.0+perturbation, 1.0-perturbation])\n",
    "\n",
    "x_1_ex3c = torch.tensor([2.0, 1.0])\n",
    "x_n_ex3c = torch.tensor([0.0, 0.0])\n",
    "h_n_ex3c = torch.tensor([0.0, 0.0])\n",
    "\n",
    "df_ex3c = compute_y_difference(30, x_1_ex3c, x_n_ex3c, h_n_ex3c, pertubating_x_ex3c, perturbation_values_ex3, \n",
    "                               VanillaRNNEx3b, module_params_ex3b, precision=10)\n",
    "print(f'The difference is \\n{df_ex3c}')\n",
    "\n",
    "# plot log-log scale\n",
    "plt.figure(1)\n",
    "plt.clf()\n",
    "plt.plot(df_ex3c['perturbation_log'], df_ex3c['y_difference'], '-o')\n",
    "plt.grid()\n",
    "plt.xlabel('log of perturbations')\n",
    "plt.ylabel('norm of y difference')\n",
    "plt.title(\"Difference of y per perturbation\")\n",
    "plt.show()"
   ],
   "metadata": {
    "collapsed": false,
    "pycharm": {
     "name": "#%%\n",
     "is_executing": false
    }
   }
  }
 ],
 "metadata": {
  "kernelspec": {
   "name": "python3",
   "language": "python",
   "display_name": "Python 3"
  },
  "language_info": {
   "codemirror_mode": {
    "name": "ipython",
    "version": 2
   },
   "file_extension": ".py",
   "mimetype": "text/x-python",
   "name": "python",
   "nbconvert_exporter": "python",
   "pygments_lexer": "ipython2",
   "version": "2.7.6"
  },
  "pycharm": {
   "stem_cell": {
    "cell_type": "raw",
    "source": [],
    "metadata": {
     "collapsed": false
    }
   }
  }
 },
 "nbformat": 4,
 "nbformat_minor": 0
}