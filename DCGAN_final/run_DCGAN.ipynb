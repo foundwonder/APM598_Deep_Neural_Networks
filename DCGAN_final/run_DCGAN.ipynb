{
 "cells": [
  {
   "cell_type": "markdown",
   "metadata": {
    "collapsed": true,
    "pycharm": {
     "name": "#%% md\n"
    }
   },
   "source": [
    "author: Jieshu Wang (jwang290@asu.edu)\n",
    "\n",
    "This file runs DCGAN for different dataset.\n",
    "- Define hyperparameters by specifying the parameters passed in the GANParams class, which is a dataclass\n",
    "- call set_and_run_dcgan function\n",
    "- class DCGANTrainer has methods that plot the result.\n",
    "- More methods are under development."
   ]
  },
  {
   "cell_type": "code",
   "execution_count": null,
   "outputs": [],
   "source": [
    "from MyDCGAN import GANParams, Generator, Discriminator, DCGANTrainer\n",
    "\n",
    "MNIST_params = GANParams(batch_size=64, num_epoch=1)\n",
    "galaxy_params = GANParams(data_path='../galaxy-zoo-the-galaxy-challenge',\n",
    "                          output_path='./output_20200430/output_galaxy_zoo',\n",
    "                          image_channel=3, batch_size=64, dataset_name='galaxy_zoo')\n",
    "celeba_params = GANParams(data_path='../data_sets/celebA/',\n",
    "                          output_path='./output_20200430/output_celebA',\n",
    "                          image_channel=3, batch_size=64, dataset_name='celeca')\n",
    "pokeman_params = GANParams(data_path='./datasets/pokemon-images-and-types',\n",
    "                           output_path='./output_20200430/output_pokeman',\n",
    "                           image_channel=3, batch_size=32, num_epoch=5, dataset_name='pokeman')\n",
    "\n",
    "def set_and_run_dcgan(params: type(GANParams)):\n",
    "    generator = Generator(params)\n",
    "    discriminator = Discriminator(params)\n",
    "    dcgan_trainer = DCGANTrainer(params, generator, discriminator)\n",
    "    dcgan_trainer.train()\n",
    "    return dcgan_trainer"
   ],
   "metadata": {
    "collapsed": false,
    "pycharm": {
     "name": "#%%\n"
    }
   }
  },
  {
   "cell_type": "code",
   "execution_count": null,
   "outputs": [],
   "source": [
    "# MNIST\n",
    "# MNIST_dcgan = set_and_run_dcgan(MNIST_params )"
   ],
   "metadata": {
    "collapsed": false,
    "pycharm": {
     "name": "#%%\n"
    }
   }
  },
  {
   "cell_type": "code",
   "execution_count": null,
   "outputs": [],
   "source": [
    "# MNIST_dcgan.plot_result()"
   ],
   "metadata": {
    "collapsed": false,
    "pycharm": {
     "name": "#%%\n"
    }
   }
  },
  {
   "cell_type": "code",
   "execution_count": null,
   "outputs": [],
   "source": [
    "# galaxy zoo\n",
    "set_and_run_dcgan(galaxy_params)"
   ],
   "metadata": {
    "collapsed": false,
    "pycharm": {
     "name": "#%%\n"
    }
   }
  },
  {
   "cell_type": "code",
   "execution_count": null,
   "outputs": [],
   "source": [
    "faces_small_params = GANParams(data_path='./datasets/faces',\n",
    "                           output_path='./output_20200430/output_small_faces',\n",
    "                           image_channel=3, batch_size=32, num_epoch=5, dataset_name='faces')\n",
    "faces_dcgan = set_and_run_dcgan(faces_small_params)"
   ],
   "metadata": {
    "collapsed": false,
    "pycharm": {
     "name": "#%%\n"
    }
   }
  },
  {
   "cell_type": "code",
   "execution_count": null,
   "outputs": [],
   "source": [
    "faces_dcgan.plot_result()"
   ],
   "metadata": {
    "collapsed": false,
    "pycharm": {
     "name": "#%%\n"
    }
   }
  },
  {
   "cell_type": "code",
   "execution_count": null,
   "outputs": [],
   "source": [
    "#apple\n",
    "apple_params = GANParams(data_path='./datasets/fruits/apple',\n",
    "                           output_path='./output_20200430/output_fruits/apple',\n",
    "                           image_channel=3, batch_size=32, num_epoch=25, dataset_name='apple')\n",
    "apple_dcgan = set_and_run_dcgan(apple_params)\n",
    "apple_dcgan.plot_result()"
   ],
   "metadata": {
    "collapsed": false,
    "pycharm": {
     "name": "#%%\n"
    }
   }
  },
  {
   "cell_type": "code",
   "execution_count": null,
   "outputs": [],
   "source": [
    "# food for machine learning = ffml\n",
    "ffml_params = GANParams(data_path='./datasets/ffml-dataset',\n",
    "                           output_path='./output_20200430/output_ffml',\n",
    "                           image_channel=3, batch_size=32, num_epoch=1, dataset_name='ffml')\n",
    "ffml_dcgan = set_and_run_dcgan(ffml_params)\n",
    "ffml_dcgan.plot_result()"
   ],
   "metadata": {
    "collapsed": false,
    "pycharm": {
     "name": "#%%\n"
    }
   }
  },
  {
   "cell_type": "code",
   "execution_count": null,
   "outputs": [],
   "source": [
    "from dcgan_20200430 import GANParams, set_and_run_dcgan\n",
    "daqian_oracle_params = GANParams(data_path='./datasets/daqian-oracle',\n",
    "                           output_path='./output_20200430/output_daqian-oracle',\n",
    "                           image_channel=1, batch_size=64, num_epoch=1, dataset_name='daqian-oracle')"
   ],
   "metadata": {
    "collapsed": false,
    "pycharm": {
     "name": "#%%\n"
    }
   }
  },
  {
   "cell_type": "code",
   "execution_count": null,
   "outputs": [],
   "source": [
    "# anime faces\n",
    "from dcgan_20200430 import GANParams, set_and_run_dcgan\n",
    "anime_faces_params = GANParams(data_path='./datasets/anime_faces',\n",
    "                           output_path='./output_20200430/output_anime_faces',\n",
    "                           image_channel=3, batch_size=64, num_epoch=5, dataset_name='anime_faces')\n",
    "anime_df = set_and_run_dcgan(anime_faces_params)\n",
    "anime_df.plot_result()\n"
   ],
   "metadata": {
    "collapsed": false,
    "pycharm": {
     "name": "#%%\n"
    }
   }
  }
 ],
 "metadata": {
  "kernelspec": {
   "display_name": "Python 3",
   "language": "python",
   "name": "python3"
  },
  "language_info": {
   "codemirror_mode": {
    "name": "ipython",
    "version": 2
   },
   "file_extension": ".py",
   "mimetype": "text/x-python",
   "name": "python",
   "nbconvert_exporter": "python",
   "pygments_lexer": "ipython2",
   "version": "2.7.6"
  }
 },
 "nbformat": 4,
 "nbformat_minor": 0
}